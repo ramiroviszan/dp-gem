{
 "cells": [
  {
   "cell_type": "code",
   "execution_count": 1,
   "metadata": {},
   "outputs": [],
   "source": [
    "import pandas as pd\n",
    "import numpy as np\n",
    "import matplotlib.pyplot as plt"
   ]
  },
  {
   "cell_type": "code",
   "execution_count": 2,
   "metadata": {},
   "outputs": [],
   "source": [
    "exp_name = 'exp_3_3'"
   ]
  },
  {
   "cell_type": "code",
   "execution_count": 3,
   "metadata": {},
   "outputs": [],
   "source": [
    "from tensorflow.keras.models import load_model "
   ]
  },
  {
   "cell_type": "code",
   "execution_count": 4,
   "metadata": {},
   "outputs": [],
   "source": [
    "model = load_model('results/{exp_name}/gen.h5'.format(exp_name=exp_name))"
   ]
  },
  {
   "cell_type": "code",
   "execution_count": 5,
   "metadata": {},
   "outputs": [
    {
     "output_type": "stream",
     "name": "stdout",
     "text": "Model: \"sequential_1\"\n_________________________________________________________________\nLayer (type)                 Output Shape              Param #   \n=================================================================\nembedding (Embedding)        (None, 46, 8)             248       \n_________________________________________________________________\nlambda (Lambda)              (None, 8)                 0         \n_________________________________________________________________\ndense_1 (Dense)              (None, 512)               4608      \n_________________________________________________________________\ndense_2 (Dense)              (None, 265)               135945    \n_________________________________________________________________\ndense_3 (Dense)              (None, 128)               34048     \n_________________________________________________________________\ndense_4 (Dense)              (None, 1)                 129       \n=================================================================\nTotal params: 174,978\nTrainable params: 174,978\nNon-trainable params: 0\n_________________________________________________________________\n"
    }
   ],
   "source": [
    "model.summary()"
   ]
  },
  {
   "cell_type": "code",
   "execution_count": 6,
   "metadata": {},
   "outputs": [
    {
     "output_type": "execute_result",
     "data": {
      "text/plain": "31"
     },
     "metadata": {},
     "execution_count": 6
    }
   ],
   "source": [
    "embedding = model.layers[0].get_weights()[0]\n",
    "vocab_size = embedding.shape[0]\n",
    "vocab_size"
   ]
  },
  {
   "cell_type": "code",
   "execution_count": 7,
   "metadata": {},
   "outputs": [
    {
     "output_type": "execute_result",
     "data": {
      "text/plain": "array([[-1.01663522e-01, -8.66283476e-02, -2.18662862e-02,\n        -4.47743870e-02, -7.26811215e-02, -1.21896183e-02,\n         6.51906803e-02, -2.31473427e-02],\n       [ 1.60736553e-02,  2.46128775e-02,  2.72791125e-02,\n         1.52432062e-02,  8.29430670e-03, -2.85104048e-02,\n         3.99599783e-02,  4.57289107e-02],\n       [ 8.46677460e-04,  3.19881216e-02,  9.71231312e-02,\n        -3.09981555e-02, -7.44259683e-03, -2.21769139e-02,\n        -8.64474997e-02, -5.10182194e-02],\n       [-4.20079678e-02, -8.33303556e-02,  4.26291712e-02,\n        -8.56258906e-03, -2.20500622e-02, -9.03707594e-02,\n        -6.06247708e-02, -2.20413134e-02],\n       [-5.77248707e-02,  2.10018028e-02,  4.74660583e-02,\n         1.78521697e-03, -7.99937323e-02, -5.88091090e-02,\n        -5.33168092e-02, -6.05049208e-02],\n       [ 8.54139626e-02,  1.82238054e-02,  6.18327223e-03,\n         1.01620585e-01,  2.87265107e-02, -6.00114018e-02,\n        -2.85174232e-02,  5.39963394e-02],\n       [-3.45613994e-02,  1.80259794e-02,  1.08301872e-02,\n        -3.11116707e-02,  3.42011787e-02,  1.81401812e-03,\n        -8.87606889e-02, -7.39649162e-02],\n       [-2.95810718e-02, -5.00014983e-02, -2.52061449e-02,\n        -4.83350083e-02,  4.79510706e-03,  2.93906759e-02,\n         5.21551147e-02,  4.77988534e-02],\n       [-4.83274460e-02, -4.95882258e-02, -2.37427708e-02,\n        -2.01529451e-02,  3.75927575e-02,  2.33005974e-02,\n         9.34695527e-02, -3.35234590e-02],\n       [ 7.53363073e-02,  7.95221180e-02,  7.32816383e-02,\n         4.24699634e-02, -4.11601029e-02, -9.57909748e-02,\n        -3.56091708e-02,  3.79557186e-03],\n       [ 1.48615742e-03, -5.71585670e-02, -8.45326036e-02,\n         4.50655892e-02,  7.54052191e-04,  8.14460665e-02,\n         2.67291907e-02,  2.38595400e-02],\n       [ 5.23993112e-02,  8.57561901e-02,  6.03084266e-02,\n         5.52439392e-02, -5.43403812e-02, -8.03809986e-02,\n        -8.04615170e-02,  9.61220786e-02],\n       [ 3.68108451e-02, -3.91006982e-03,  1.43491589e-02,\n         3.41185629e-02, -4.71362611e-03,  1.68940090e-02,\n         2.61811819e-02,  7.00506493e-02],\n       [ 1.20671660e-01,  5.67817800e-02, -6.75579160e-02,\n         1.22184612e-01,  1.15613177e-01,  5.20884693e-02,\n         1.39416739e-01,  8.19651335e-02],\n       [ 3.17309760e-02,  1.68430861e-02, -4.07012664e-02,\n         6.02565752e-03,  8.55016783e-02,  8.66507143e-02,\n         5.12438267e-02,  2.16698945e-02],\n       [ 2.17985325e-02,  7.70672336e-02, -4.32075560e-02,\n         6.36787117e-02,  1.89471561e-02,  3.45578715e-02,\n         6.39687330e-02,  4.69517857e-02],\n       [-4.35946919e-02, -3.34974229e-02,  5.93454950e-03,\n        -3.29249017e-02,  2.02696938e-02,  2.06496450e-03,\n        -5.84117062e-02, -9.61860176e-03],\n       [ 2.64457129e-02,  1.79432519e-02,  4.12072055e-02,\n         3.36818807e-02, -3.21552306e-02, -4.57442291e-02,\n        -2.05094814e-02, -2.99040228e-03],\n       [ 8.33646045e-04,  5.36052845e-02, -4.92374375e-02,\n        -4.11585905e-03,  6.76670745e-02,  1.05887718e-01,\n         6.92932308e-02,  5.40267080e-02],\n       [-3.98100838e-02,  1.27292387e-02,  4.23480310e-02,\n        -1.94890630e-02,  3.03393342e-02, -2.37450134e-02,\n        -3.90940085e-02, -4.94545102e-02],\n       [ 2.02038363e-01,  9.09782425e-02, -1.27063066e-01,\n         1.84719056e-01,  1.10438973e-01,  1.39819771e-01,\n         1.95876300e-01,  1.71136707e-01],\n       [ 1.54107921e-02,  1.96604524e-02,  6.95494935e-02,\n         2.10259110e-02,  1.04960469e-04, -8.81720111e-02,\n        -8.82282779e-02,  5.38826585e-02],\n       [ 3.36271934e-02, -1.67912655e-02,  2.50226092e-02,\n         5.77660613e-02, -2.09497735e-02,  3.36983241e-02,\n         4.52083834e-02,  3.74548547e-02],\n       [ 1.49333756e-02,  2.18692585e-03,  6.56752959e-02,\n         3.47205848e-02, -4.15934287e-02, -4.53653075e-02,\n        -6.17287643e-02,  2.30824854e-02],\n       [ 1.35943405e-02, -1.27065778e-02, -3.67318615e-02,\n        -4.74459194e-02, -3.40058431e-02, -1.18533149e-02,\n         3.72744910e-02, -2.50048283e-02],\n       [-3.02933287e-02, -2.78707370e-02, -2.58467756e-02,\n         1.48446932e-02,  2.49820221e-02,  8.62801895e-02,\n         5.74985072e-02,  5.04629547e-03],\n       [ 2.85622645e-02,  1.10707715e-01,  7.32934102e-02,\n         6.19691424e-02,  2.47775447e-02, -7.96373561e-02,\n        -1.38966301e-02,  1.14127852e-01],\n       [ 1.44080341e-01,  1.88561752e-01, -1.69396490e-01,\n         2.20102355e-01,  1.76237762e-01,  1.28667712e-01,\n         1.47464380e-01,  2.10200682e-01],\n       [ 1.53900132e-01,  1.16456166e-01, -1.47417918e-01,\n         1.53671041e-01,  1.12664714e-01,  1.54674783e-01,\n         1.94232658e-01,  1.44140124e-01],\n       [ 1.20305177e-03,  3.51130404e-02, -5.38739040e-02,\n         2.28497759e-02,  2.91524269e-02,  4.68358323e-02,\n         7.86745325e-02, -1.84858203e-04],\n       [-9.51202400e-03,  5.49538620e-02, -3.28822695e-02,\n        -1.16629582e-02, -2.39961352e-02,  8.79054144e-03,\n         3.76373035e-04, -1.45119112e-02]], dtype=float32)"
     },
     "metadata": {},
     "execution_count": 7
    }
   ],
   "source": [
    "embedding"
   ]
  },
  {
   "cell_type": "code",
   "execution_count": null,
   "metadata": {},
   "outputs": [],
   "source": [
    "from sklearn.metrics.pairwise import cosine_similarity\n",
    "anomal = np.array([6, 7, 9, 11, 12, 13, 14, 18, 23, 26, 28]) + 1"
   ]
  },
  {
   "cell_type": "code",
   "execution_count": null,
   "metadata": {},
   "outputs": [],
   "source": [
    "for i in anomal:\n",
    "    for j in range(0, vocab_size):\n",
    "        print(i, j, cosine_similarity(embedding[i].reshape(1, -1), embedding[j].reshape(1, -1))[0][0], j in anomal)"
   ]
  },
  {
   "cell_type": "code",
   "execution_count": null,
   "metadata": {},
   "outputs": [],
   "source": [
    "for i in range(0, vocab_size):\n",
    "    all_cos = []\n",
    "    for j in range(0, vocab_size):\n",
    "        cos = cosine_similarity(embedding[i].reshape(1, -1), embedding[j].reshape(1, -1))[0][0]\n",
    "        all_cos.append(cos)\n",
    "\n",
    "    all_cos = np.array(all_cos)\n",
    "\n",
    "    top_k_cos = np.argsort(all_cos)[-6:][::-1][1:]\n",
    "\n",
    "    print(i, top_k_cos, all_cos[top_k_cos], [x in anomal for x in top_k_cos])\n",
    "    print(\"-----------------\")"
   ]
  },
  {
   "cell_type": "code",
   "execution_count": null,
   "metadata": {},
   "outputs": [],
   "source": [
    "x = [symbol[0]  for symbol in embedding]\n",
    "y = [symbol[1]  for symbol in embedding]\n",
    "symbols = list(range(vocab_size))\n",
    "plt.scatter(x, y) \n",
    "\n",
    "for i, symbol in enumerate(symbols):\n",
    "    color = 'red' if symbol in anomal else 'black'\n",
    "    plt.annotate(symbol, (x[i], y[i]), color=color)"
   ]
  },
  {
   "cell_type": "code",
   "execution_count": null,
   "metadata": {},
   "outputs": [],
   "source": [
    "from sklearn.manifold import TSNE\n",
    "from sklearn.decomposition import PCA"
   ]
  },
  {
   "cell_type": "code",
   "execution_count": null,
   "metadata": {},
   "outputs": [],
   "source": [
    "x = PCA(n_components=2).fit_transform(embedding)\n",
    "x = x.transpose()\n",
    "symbols = list(range(vocab_size))\n",
    "plt.scatter(x[0], x[1]) \n",
    "\n",
    "for i, symbol in enumerate(symbols):\n",
    "    color = 'red' if symbol in anomal else 'black'\n",
    "    plt.annotate(symbol, (x[0][i], x[1][i]), color=color)"
   ]
  },
  {
   "cell_type": "code",
   "execution_count": null,
   "metadata": {},
   "outputs": [],
   "source": [
    "x = TSNE(n_components=2).fit_transform(embedding)\n",
    "x = x.transpose()\n",
    "symbols = list(range(vocab_size))\n",
    "plt.scatter(x[0], x[1]) \n",
    "\n",
    "for i, symbol in enumerate(symbols):\n",
    "    color = 'red' if symbol in anomal else 'black'\n",
    "    plt.annotate(symbol, (x[0][i], x[1][i]), color=color)"
   ]
  },
  {
   "cell_type": "code",
   "execution_count": null,
   "metadata": {},
   "outputs": [],
   "source": []
  }
 ],
 "metadata": {
  "kernelspec": {
   "display_name": "Python 3.7.3 64-bit ('keras2': conda)",
   "language": "python",
   "name": "python37364bitkeras2conda91e1bf1353464f539cca082d2539e3bc"
  },
  "language_info": {
   "codemirror_mode": {
    "name": "ipython",
    "version": 3
   },
   "file_extension": ".py",
   "mimetype": "text/x-python",
   "name": "python",
   "nbconvert_exporter": "python",
   "pygments_lexer": "ipython3",
   "version": "3.7.3-final"
  }
 },
 "nbformat": 4,
 "nbformat_minor": 2
}