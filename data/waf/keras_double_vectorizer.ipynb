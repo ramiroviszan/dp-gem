{
 "cells": [
  {
   "cell_type": "code",
   "execution_count": 1,
   "metadata": {},
   "outputs": [],
   "source": [
    "import sys\n",
    "import re\n",
    "import random\n",
    "import joblib\n",
    "import numpy as np\n",
    "import pandas as pd\n",
    "import tensorflow as tf\n",
    "from sklearn.model_selection import train_test_split\n",
    "from sklearn.metrics import confusion_matrix, roc_curve\n",
    "from sklearn.feature_extraction.text import TfidfVectorizer, CountVectorizer\n",
    "from sklearn.utils import class_weight\n",
    "from sklearn.preprocessing import normalize\n",
    "\n",
    "import nltk\n",
    "from nltk.stem import WordNetLemmatizer\n",
    "\n",
    "import matplotlib.pyplot as plt\n",
    "\n",
    "sys.path.insert(0, \"../../\")\n",
    "from common import data_utils as data_utils\n",
    "from common import plot_utils as plot"
   ]
  },
  {
   "cell_type": "code",
   "execution_count": 2,
   "metadata": {},
   "outputs": [],
   "source": [
    "folder = \"\""
   ]
  },
  {
   "cell_type": "code",
   "execution_count": 3,
   "metadata": {},
   "outputs": [],
   "source": [
    "# URI as text\n",
    "uri_encoding = \"utf-8\"\n",
    "out_uri_encoding = \"utf-8\"\n",
    "output_file_normal = \"uri_all_normal_wordlevel.txt\"\n",
    "output_file_abnormal = \"uri_all_abnormal_wordlevel.txt\""
   ]
  },
  {
   "cell_type": "code",
   "execution_count": 4,
   "metadata": {},
   "outputs": [],
   "source": [
    "def read(file):\n",
    "    with open(str(folder + file), 'r', encoding=uri_encoding, errors=\"backslashreplace\") as f:\n",
    "        samples = list(f)\n",
    "        return samples"
   ]
  },
  {
   "cell_type": "code",
   "execution_count": 5,
   "metadata": {},
   "outputs": [
    {
     "data": {
      "text/plain": [
       "1401537"
      ]
     },
     "execution_count": 5,
     "metadata": {},
     "output_type": "execute_result"
    }
   ],
   "source": [
    "good_uris = read(\"uri_all_normal.txt\")\n",
    "len(good_uris)"
   ]
  },
  {
   "cell_type": "code",
   "execution_count": 6,
   "metadata": {},
   "outputs": [
    {
     "data": {
      "text/plain": [
       "87904"
      ]
     },
     "execution_count": 6,
     "metadata": {},
     "output_type": "execute_result"
    }
   ],
   "source": [
    "bad_uris = read(\"uri_all_abnormal.txt\")\n",
    "len(bad_uris)"
   ]
  },
  {
   "cell_type": "code",
   "execution_count": 7,
   "metadata": {},
   "outputs": [
    {
     "data": {
      "text/plain": [
       "1489441"
      ]
     },
     "execution_count": 7,
     "metadata": {},
     "output_type": "execute_result"
    }
   ],
   "source": [
    "all_uris = []\n",
    "all_uris.extend(good_uris)\n",
    "all_uris.extend(bad_uris)\n",
    "len(all_uris)"
   ]
  },
  {
   "cell_type": "code",
   "execution_count": 8,
   "metadata": {},
   "outputs": [],
   "source": [
    "y = np.concatenate((np.zeros(len(good_uris)), np.ones(len(bad_uris))))"
   ]
  },
  {
   "cell_type": "code",
   "execution_count": 9,
   "metadata": {},
   "outputs": [],
   "source": [
    "x_train, x_test, y_train, y_test = train_test_split(all_uris, y, test_size=0.20, random_state=47)"
   ]
  },
  {
   "cell_type": "code",
   "execution_count": 10,
   "metadata": {},
   "outputs": [],
   "source": [
    "x_train, x_val, y_train, y_val = train_test_split(x_train, y_train, test_size=0.20, random_state=47)"
   ]
  },
  {
   "cell_type": "code",
   "execution_count": 11,
   "metadata": {},
   "outputs": [
    {
     "data": {
      "text/plain": [
       "array([0.53144074, 8.45146733])"
      ]
     },
     "execution_count": 11,
     "metadata": {},
     "output_type": "execute_result"
    }
   ],
   "source": [
    "class_weights = class_weight.compute_class_weight('balanced',np.unique(y_train), y_train)\n",
    "class_weights"
   ]
  },
  {
   "cell_type": "code",
   "execution_count": 12,
   "metadata": {},
   "outputs": [],
   "source": [
    "expert_keys = ['<','>','../','<>','’','-','*/',';','+','=','(',':','||','*','“','“','–>','&','#include','select',\n",
    "            'alert','exec','union','order','winnt','commit','alter','from','where','count','passwd','script','table',\n",
    "             'shell','into','document.cookie','etc/passwd','password','bash_history','path/child','onmouseover','User-Agent:',\n",
    "             'javascript:','between','objectclass','Accept:','upper','insert','and','href','mail=',\n",
    "             ')','<!–','/','/*','|','$','0%','cn=','cmd','or','%0a','url=','.exe','.dll','cgi-bin']"
   ]
  },
  {
   "cell_type": "markdown",
   "metadata": {},
   "source": [
    "# Left Part"
   ]
  },
  {
   "cell_type": "code",
   "execution_count": 13,
   "metadata": {},
   "outputs": [],
   "source": [
    "wnl = WordNetLemmatizer()\n",
    "def tokenizer_custom_part_left(uri):\n",
    "    uri = str(uri)\n",
    "    uri = uri.lower()\n",
    "    uri = re.sub(r\"[\\d+]|\\n\", \"\",  uri)\n",
    "    uri = re.split('(\\/|\\?|=|&|%|\\+|-|\\.|,|_|~|\\*|<|>| |\\:)', uri)\n",
    "    uri = [ wnl.lemmatize(word) for word in uri if word not in expert_keys]\n",
    "    return uri"
   ]
  },
  {
   "cell_type": "code",
   "execution_count": 14,
   "metadata": {},
   "outputs": [],
   "source": [
    "def compute_bag_part_left():\n",
    "    print(\"Calculating\")\n",
    "    vectorizer = CountVectorizer(max_features=500, tokenizer=tokenizer_custom_part_left)\n",
    "    bag = vectorizer.fit_transform(x_train)\n",
    "    joblib.dump(vectorizer, \"vectorizer_count_part_left.joblib\")\n",
    "    return vectorizer, bag\n",
    "    "
   ]
  },
  {
   "cell_type": "code",
   "execution_count": 15,
   "metadata": {},
   "outputs": [
    {
     "name": "stdout",
     "output_type": "stream",
     "text": [
      "Loading\n"
     ]
    }
   ],
   "source": [
    "force = False\n",
    "try:\n",
    "    if force:\n",
    "        vectorizer_left, bag_left = compute_bag_part_left()\n",
    "    else:\n",
    "        print(\"Loading\")\n",
    "        vectorizer_left = joblib.load(\"vectorizer_count_part_left.joblib\")\n",
    "        bag_left = vectorizer_left.transform(x_train)\n",
    "except:\n",
    "    vectorizer_left, bag_left = compute_bag_part_left()"
   ]
  },
  {
   "cell_type": "code",
   "execution_count": 16,
   "metadata": {},
   "outputs": [
    {
     "data": {
      "text/plain": [
       "(953241, 500)"
      ]
     },
     "execution_count": 16,
     "metadata": {},
     "output_type": "execute_result"
    }
   ],
   "source": [
    "x_train_part_left = bag_left.toarray()\n",
    "x_train_part_left.shape"
   ]
  },
  {
   "cell_type": "code",
   "execution_count": 17,
   "metadata": {},
   "outputs": [],
   "source": [
    "x_val_part_left = vectorizer_left.transform(x_val).toarray()"
   ]
  },
  {
   "cell_type": "code",
   "execution_count": 18,
   "metadata": {},
   "outputs": [],
   "source": [
    "x_test_part_left = vectorizer_left.transform(x_test).toarray()"
   ]
  },
  {
   "cell_type": "markdown",
   "metadata": {},
   "source": [
    "# Right Part"
   ]
  },
  {
   "cell_type": "code",
   "execution_count": 19,
   "metadata": {},
   "outputs": [],
   "source": [
    "def tokenizer_custom_part_right(uri):\n",
    "    uri = str(uri)\n",
    "    uri = uri.lower()\n",
    "    uri = re.sub(r\"[\\d+]|\\n\", \"\",  uri)\n",
    "    uri = re.split('(\\/|\\?|=|&|%|\\+|-|\\.|,|_|~|\\*|<|>| |\\:)', uri)\n",
    "    uri = [word for word in uri if word in expert_keys]\n",
    "    return uri"
   ]
  },
  {
   "cell_type": "code",
   "execution_count": 20,
   "metadata": {},
   "outputs": [],
   "source": [
    "def compute_bag_part_right():\n",
    "    print(\"Calculating\")\n",
    "    vectorizer = CountVectorizer(max_features=500, tokenizer=tokenizer_custom_part_right)\n",
    "    bag = vectorizer.fit_transform(x_train)\n",
    "    joblib.dump(vectorizer, \"vectorizer_count_part_right.joblib\")\n",
    "    return vectorizer, bag\n",
    "    "
   ]
  },
  {
   "cell_type": "code",
   "execution_count": 21,
   "metadata": {},
   "outputs": [
    {
     "name": "stdout",
     "output_type": "stream",
     "text": [
      "Loading\n",
      "Calculating\n"
     ]
    }
   ],
   "source": [
    "force = False\n",
    "try:\n",
    "    if force:\n",
    "        vectorizer_right, bag_right = compute_bag_part_right()\n",
    "    else:\n",
    "        print(\"Loading\")\n",
    "        vectorizer_right = joblib.load(\"vectorizer_count_part_right.joblib\")\n",
    "        bag_right = vectorizer.transform(x_train)\n",
    "except:\n",
    "    vectorizer_right, bag_right = compute_bag_part_right()"
   ]
  },
  {
   "cell_type": "code",
   "execution_count": 22,
   "metadata": {},
   "outputs": [
    {
     "data": {
      "text/plain": [
       "(953241, 43)"
      ]
     },
     "execution_count": 22,
     "metadata": {},
     "output_type": "execute_result"
    }
   ],
   "source": [
    "x_train_part_right = bag_right.toarray()\n",
    "x_train_part_right.shape"
   ]
  },
  {
   "cell_type": "code",
   "execution_count": 23,
   "metadata": {},
   "outputs": [],
   "source": [
    "x_val_part_right = vectorizer_right.transform(x_val).toarray()"
   ]
  },
  {
   "cell_type": "code",
   "execution_count": 24,
   "metadata": {},
   "outputs": [],
   "source": [
    "x_test_part_right = vectorizer_right.transform(x_test).toarray()"
   ]
  },
  {
   "cell_type": "markdown",
   "metadata": {},
   "source": [
    "# Laplacian privatizer"
   ]
  },
  {
   "cell_type": "code",
   "execution_count": 25,
   "metadata": {},
   "outputs": [],
   "source": [
    "n_x_train_part_left = x_train_part_left\n",
    "n_x_val_part_left = x_val_part_left\n",
    "n_x_test_part_left = x_test_part_left"
   ]
  },
  {
   "cell_type": "markdown",
   "metadata": {},
   "source": [
    "# DP Type\n"
   ]
  },
  {
   "cell_type": "code",
   "execution_count": 26,
   "metadata": {},
   "outputs": [],
   "source": [
    "partial = False"
   ]
  },
  {
   "cell_type": "code",
   "execution_count": 27,
   "metadata": {},
   "outputs": [],
   "source": [
    "def get_mechanism(eps):\n",
    "    \n",
    "    def test_randomizer(row):\n",
    "        return row\n",
    "    \n",
    "    def laplace_randomizer(row):\n",
    "        scale = 1/eps\n",
    "        noise = np.random.laplace(0, scale, row.shape)\n",
    "        return row + noise\n",
    "    \n",
    "    return laplace_randomizer\n",
    "    \n",
    "def privatize_matrix(data, randomizer):\n",
    "    return np.apply_along_axis(randomizer, axis=1, arr=data)"
   ]
  },
  {
   "cell_type": "code",
   "execution_count": 28,
   "metadata": {},
   "outputs": [],
   "source": [
    "epsilon = 0.5"
   ]
  },
  {
   "cell_type": "code",
   "execution_count": 29,
   "metadata": {},
   "outputs": [],
   "source": [
    "if partial:\n",
    "    print(\"privatizing\")\n",
    "    n_x_train_part_left = normalize(n_x_train_part_left, axis = 1, norm = 'l1')\n",
    "    n_x_train_part_left = privatize_matrix(n_x_train_part_left, get_mechanism(epsilon))\n",
    "    \n",
    "    n_x_val_part_left = normalize(n_x_val_part_left, axis = 1, norm = 'l1')\n",
    "    n_x_val_part_left = privatize_matrix(n_x_val_part_left, get_mechanism(epsilon))\n",
    "    \n",
    "    n_x_test_part_left = normalize(n_x_test_part_left, axis = 1, norm = 'l1')"
   ]
  },
  {
   "cell_type": "markdown",
   "metadata": {},
   "source": [
    "# Merge"
   ]
  },
  {
   "cell_type": "code",
   "execution_count": 30,
   "metadata": {},
   "outputs": [
    {
     "data": {
      "text/plain": [
       "(953241, 543)"
      ]
     },
     "execution_count": 30,
     "metadata": {},
     "output_type": "execute_result"
    }
   ],
   "source": [
    "f_x_train = np.hstack((n_x_train_part_left, x_train_part_right))\n",
    "f_x_train.shape"
   ]
  },
  {
   "cell_type": "code",
   "execution_count": 31,
   "metadata": {},
   "outputs": [],
   "source": [
    "f_x_val = np.hstack((n_x_val_part_left, x_val_part_right))\n",
    "f_x_test = np.hstack((n_x_test_part_left, x_test_part_right))"
   ]
  },
  {
   "cell_type": "code",
   "execution_count": 32,
   "metadata": {},
   "outputs": [],
   "source": [
    "model = tf.keras.Sequential()\n",
    "model.add(tf.keras.layers.Dense(512, input_shape=(f_x_train.shape[1],), activation='relu'))\n",
    "model.add(tf.keras.layers.Dropout(0.25))\n",
    "model.add(tf.keras.layers.Dense(256, activation='relu'))\n",
    "model.add(tf.keras.layers.Dropout(0.25))\n",
    "model.add(tf.keras.layers.Dense(128, activation='relu'))\n",
    "model.add(tf.keras.layers.Dropout(0.25))\n",
    "model.add(tf.keras.layers.Dense(1, activation='sigmoid'))"
   ]
  },
  {
   "cell_type": "code",
   "execution_count": 33,
   "metadata": {},
   "outputs": [
    {
     "name": "stdout",
     "output_type": "stream",
     "text": [
      "Model: \"sequential\"\n",
      "_________________________________________________________________\n",
      "Layer (type)                 Output Shape              Param #   \n",
      "=================================================================\n",
      "dense (Dense)                (None, 512)               278528    \n",
      "_________________________________________________________________\n",
      "dropout (Dropout)            (None, 512)               0         \n",
      "_________________________________________________________________\n",
      "dense_1 (Dense)              (None, 256)               131328    \n",
      "_________________________________________________________________\n",
      "dropout_1 (Dropout)          (None, 256)               0         \n",
      "_________________________________________________________________\n",
      "dense_2 (Dense)              (None, 128)               32896     \n",
      "_________________________________________________________________\n",
      "dropout_2 (Dropout)          (None, 128)               0         \n",
      "_________________________________________________________________\n",
      "dense_3 (Dense)              (None, 1)                 129       \n",
      "=================================================================\n",
      "Total params: 442,881\n",
      "Trainable params: 442,881\n",
      "Non-trainable params: 0\n",
      "_________________________________________________________________\n"
     ]
    }
   ],
   "source": [
    "model.summary()"
   ]
  },
  {
   "cell_type": "code",
   "execution_count": 34,
   "metadata": {},
   "outputs": [],
   "source": [
    "optim = tf.optimizers.Adam(lr=0.00001)\n",
    "model.compile(optimizer=optim, loss='binary_crossentropy')"
   ]
  },
  {
   "cell_type": "code",
   "execution_count": 35,
   "metadata": {},
   "outputs": [],
   "source": [
    "class_weights = {0: class_weights[0], 1: class_weights[1]}"
   ]
  },
  {
   "cell_type": "code",
   "execution_count": 36,
   "metadata": {},
   "outputs": [],
   "source": [
    "callback = tf.keras.callbacks.EarlyStopping(monitor='val_loss', patience=3)"
   ]
  },
  {
   "cell_type": "code",
   "execution_count": 37,
   "metadata": {},
   "outputs": [
    {
     "name": "stdout",
     "output_type": "stream",
     "text": [
      "Epoch 1/50\n",
      "7448/7448 [==============================] - 34s 5ms/step - loss: 0.3401 - val_loss: 0.1957\n",
      "Epoch 2/50\n",
      "7448/7448 [==============================] - 35s 5ms/step - loss: 0.2104 - val_loss: 0.1533\n",
      "Epoch 3/50\n",
      "7448/7448 [==============================] - 37s 5ms/step - loss: 0.1750 - val_loss: 0.1419\n",
      "Epoch 4/50\n",
      "7448/7448 [==============================] - 37s 5ms/step - loss: 0.1541 - val_loss: 0.1286\n",
      "Epoch 5/50\n",
      "7448/7448 [==============================] - 37s 5ms/step - loss: 0.1425 - val_loss: 0.1220\n",
      "Epoch 6/50\n",
      "7448/7448 [==============================] - 37s 5ms/step - loss: 0.1342 - val_loss: 0.1157\n",
      "Epoch 7/50\n",
      "7448/7448 [==============================] - 37s 5ms/step - loss: 0.1290 - val_loss: 0.1055\n",
      "Epoch 8/50\n",
      "7448/7448 [==============================] - 35s 5ms/step - loss: 0.1245 - val_loss: 0.1014\n",
      "Epoch 9/50\n",
      "7448/7448 [==============================] - 34s 5ms/step - loss: 0.1214 - val_loss: 0.1009\n",
      "Epoch 10/50\n",
      "7448/7448 [==============================] - 35s 5ms/step - loss: 0.1190 - val_loss: 0.1017\n",
      "Epoch 11/50\n",
      "7448/7448 [==============================] - 35s 5ms/step - loss: 0.1163 - val_loss: 0.0969\n",
      "Epoch 12/50\n",
      "7448/7448 [==============================] - 35s 5ms/step - loss: 0.1149 - val_loss: 0.0958\n",
      "Epoch 13/50\n",
      "7448/7448 [==============================] - 35s 5ms/step - loss: 0.1126 - val_loss: 0.0936\n",
      "Epoch 14/50\n",
      "7448/7448 [==============================] - 35s 5ms/step - loss: 0.1111 - val_loss: 0.0948\n",
      "Epoch 15/50\n",
      "7448/7448 [==============================] - 35s 5ms/step - loss: 0.1102 - val_loss: 0.0932\n",
      "Epoch 16/50\n",
      "7448/7448 [==============================] - 35s 5ms/step - loss: 0.1085 - val_loss: 0.0914\n",
      "Epoch 17/50\n",
      "7448/7448 [==============================] - 35s 5ms/step - loss: 0.1075 - val_loss: 0.0924\n",
      "Epoch 18/50\n",
      "7448/7448 [==============================] - 35s 5ms/step - loss: 0.1066 - val_loss: 0.0929\n",
      "Epoch 19/50\n",
      "7448/7448 [==============================] - 35s 5ms/step - loss: 0.1055 - val_loss: 0.0897\n",
      "Epoch 20/50\n",
      "7448/7448 [==============================] - 35s 5ms/step - loss: 0.1051 - val_loss: 0.0874\n",
      "Epoch 21/50\n",
      "7448/7448 [==============================] - 35s 5ms/step - loss: 0.1041 - val_loss: 0.0897\n",
      "Epoch 22/50\n",
      "7448/7448 [==============================] - 35s 5ms/step - loss: 0.1034 - val_loss: 0.0855\n",
      "Epoch 23/50\n",
      "7448/7448 [==============================] - 35s 5ms/step - loss: 0.1030 - val_loss: 0.0864\n",
      "Epoch 24/50\n",
      "7448/7448 [==============================] - 35s 5ms/step - loss: 0.1026 - val_loss: 0.0886\n",
      "Epoch 25/50\n",
      "7448/7448 [==============================] - 34s 5ms/step - loss: 0.1018 - val_loss: 0.0892\n"
     ]
    }
   ],
   "source": [
    "history = model.fit(f_x_train, y_train, epochs=50, batch_size=128, validation_data=(f_x_val, y_val), class_weight=class_weights, callbacks=[callback])"
   ]
  },
  {
   "cell_type": "code",
   "execution_count": 38,
   "metadata": {},
   "outputs": [
    {
     "data": {
      "image/png": "[encoded data removed]",
      "text/plain": [
       "<Figure size 432x288 with 1 Axes>"
      ]
     },
     "metadata": {
      "needs_background": "light"
     },
     "output_type": "display_data"
    }
   ],
   "source": [
    "plot.plot(history)"
   ]
  },
  {
   "cell_type": "code",
   "execution_count": 39,
   "metadata": {},
   "outputs": [],
   "source": [
    "val_pred = model.predict(f_x_val)"
   ]
  },
  {
   "cell_type": "code",
   "execution_count": 40,
   "metadata": {},
   "outputs": [
    {
     "data": {
      "text/plain": [
       "0.49884206"
      ]
     },
     "execution_count": 40,
     "metadata": {},
     "output_type": "execute_result"
    }
   ],
   "source": [
    "fpr, tpr, thresholds = roc_curve(y_val, val_pred)\n",
    "optimal_idx = np.argmax(tpr - fpr)\n",
    "optimal_threshold = thresholds[optimal_idx]\n",
    "optimal_threshold"
   ]
  },
  {
   "cell_type": "code",
   "execution_count": 41,
   "metadata": {},
   "outputs": [],
   "source": [
    "test_pred = model.predict(f_x_test)"
   ]
  },
  {
   "cell_type": "code",
   "execution_count": 42,
   "metadata": {},
   "outputs": [],
   "source": [
    "y_hat = test_pred > optimal_threshold"
   ]
  },
  {
   "cell_type": "code",
   "execution_count": 43,
   "metadata": {},
   "outputs": [
    {
     "name": "stdout",
     "output_type": "stream",
     "text": [
      "269951 10409 479 17050\n"
     ]
    }
   ],
   "source": [
    "tn, fp, fn, tp = confusion_matrix(y_test, y_hat).ravel()\n",
    "print(tn, fp, fn, tp)"
   ]
  },
  {
   "cell_type": "code",
   "execution_count": 44,
   "metadata": {},
   "outputs": [
    {
     "data": {
      "text/plain": [
       "0.9726738547549775"
      ]
     },
     "execution_count": 44,
     "metadata": {},
     "output_type": "execute_result"
    }
   ],
   "source": [
    "tpr = tp / (tp + fn)\n",
    "tpr\n"
   ]
  },
  {
   "cell_type": "code",
   "execution_count": 45,
   "metadata": {},
   "outputs": [
    {
     "data": {
      "text/plain": [
       "0.9628727350549294"
      ]
     },
     "execution_count": 45,
     "metadata": {},
     "output_type": "execute_result"
    }
   ],
   "source": [
    "tnr = tn / (tn + fp)\n",
    "tnr"
   ]
  },
  {
   "cell_type": "code",
   "execution_count": null,
   "metadata": {},
   "outputs": [],
   "source": []
  }
 ],
 "metadata": {
  "kernelspec": {
   "display_name": "Python 3",
   "language": "python",
   "name": "python3"
  },
  "language_info": {
   "codemirror_mode": {
    "name": "ipython",
    "version": 3
   },
   "file_extension": ".py",
   "mimetype": "text/x-python",
   "name": "python",
   "nbconvert_exporter": "python",
   "pygments_lexer": "ipython3",
   "version": "3.7.6"
  }
 },
 "nbformat": 4,
 "nbformat_minor": 4
}
