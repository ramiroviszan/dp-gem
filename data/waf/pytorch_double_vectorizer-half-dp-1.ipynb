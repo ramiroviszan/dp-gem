{
 "cells": [
  {
   "cell_type": "code",
   "execution_count": 1,
   "metadata": {
    "tags": []
   },
   "outputs": [],
   "source": [
    "import torch\n",
    "import torch.nn as nn\n",
    "from torch.utils.data import DataLoader\n",
    "import torch.nn.functional as F\n",
    "import gc\n",
    "import sys\n",
    "import re\n",
    "import random\n",
    "import joblib\n",
    "import numpy as np\n",
    "import pandas as pd\n",
    "\n",
    "from sklearn.model_selection import train_test_split\n",
    "from sklearn.metrics import confusion_matrix, roc_curve\n",
    "from sklearn.feature_extraction.text import TfidfVectorizer, CountVectorizer\n",
    "from sklearn.utils import class_weight\n",
    "from sklearn.preprocessing import normalize\n",
    "\n",
    "import nltk\n",
    "from nltk.stem import WordNetLemmatizer\n",
    "\n",
    "import matplotlib.pyplot as plt\n",
    "\n",
    "sys.path.insert(0, \"../../\")\n",
    "from common import data_utils as data_utils"
   ]
  },
  {
   "cell_type": "code",
   "execution_count": 2,
   "metadata": {},
   "outputs": [
    {
     "name": "stdout",
     "output_type": "stream",
     "text": [
      "cuda:0\n"
     ]
    }
   ],
   "source": [
    "if torch.cuda.is_available():  \n",
    "    dev = \"cuda:0\" \n",
    "else:  \n",
    "    dev = \"cpu\"  \n",
    "\n",
    "print(dev)\n",
    "device = torch.device(dev)"
   ]
  },
  {
   "cell_type": "code",
   "execution_count": 40,
   "metadata": {},
   "outputs": [],
   "source": [
    "folder = \"\"\n",
    "force_count_left = True\n",
    "force_count_right = True\n",
    "load_model = False"
   ]
  },
  {
   "cell_type": "code",
   "execution_count": 4,
   "metadata": {},
   "outputs": [],
   "source": [
    "# URI as text\n",
    "uri_encoding = \"utf-8\"\n",
    "out_uri_encoding = \"utf-8\"\n",
    "output_file_normal = \"uri_all_normal_wordlevel.txt\"\n",
    "output_file_abnormal = \"uri_all_abnormal_wordlevel.txt\""
   ]
  },
  {
   "cell_type": "code",
   "execution_count": 5,
   "metadata": {},
   "outputs": [],
   "source": [
    "def read(file):\n",
    "    with open(str(folder + file), 'r', encoding=uri_encoding, errors=\"backslashreplace\") as f:\n",
    "        samples = list(f)\n",
    "        return samples"
   ]
  },
  {
   "cell_type": "markdown",
   "metadata": {},
   "source": [
    "## NORMAL GENERATION"
   ]
  },
  {
   "cell_type": "code",
   "execution_count": 6,
   "metadata": {
    "tags": []
   },
   "outputs": [
    {
     "data": {
      "text/plain": [
       "1401537"
      ]
     },
     "execution_count": 6,
     "metadata": {},
     "output_type": "execute_result"
    }
   ],
   "source": [
    "good_uris = read(\"uri_all_normal.txt\")\n",
    "len(good_uris)"
   ]
  },
  {
   "cell_type": "markdown",
   "metadata": {},
   "source": [
    "## ABNORMAL GENERATION"
   ]
  },
  {
   "cell_type": "code",
   "execution_count": 7,
   "metadata": {},
   "outputs": [
    {
     "data": {
      "text/plain": [
       "87904"
      ]
     },
     "execution_count": 7,
     "metadata": {},
     "output_type": "execute_result"
    }
   ],
   "source": [
    "bad_uris = read(\"uri_all_abnormal.txt\")\n",
    "len(bad_uris)"
   ]
  },
  {
   "cell_type": "code",
   "execution_count": 8,
   "metadata": {},
   "outputs": [
    {
     "data": {
      "text/plain": [
       "1489441"
      ]
     },
     "execution_count": 8,
     "metadata": {},
     "output_type": "execute_result"
    }
   ],
   "source": [
    "all_uris = []\n",
    "all_uris.extend(good_uris)\n",
    "all_uris.extend(bad_uris)\n",
    "len(all_uris)"
   ]
  },
  {
   "cell_type": "code",
   "execution_count": 9,
   "metadata": {},
   "outputs": [],
   "source": [
    "y = np.concatenate((np.zeros(len(good_uris)), np.ones(len(bad_uris))))"
   ]
  },
  {
   "cell_type": "code",
   "execution_count": 10,
   "metadata": {},
   "outputs": [],
   "source": [
    "x_train, x_test, y_train, y_test = train_test_split(all_uris, y, test_size=0.20, random_state=47)"
   ]
  },
  {
   "cell_type": "code",
   "execution_count": 11,
   "metadata": {},
   "outputs": [],
   "source": [
    "x_train, x_val, y_train, y_val = train_test_split(x_train, y_train, test_size=0.20, random_state=47)"
   ]
  },
  {
   "cell_type": "code",
   "execution_count": 12,
   "metadata": {},
   "outputs": [
    {
     "data": {
      "text/plain": [
       "array([0.53144074, 8.45146733])"
      ]
     },
     "execution_count": 12,
     "metadata": {},
     "output_type": "execute_result"
    }
   ],
   "source": [
    "class_weights = class_weight.compute_class_weight('balanced',np.unique(y_train), y_train)\n",
    "class_weights"
   ]
  },
  {
   "cell_type": "code",
   "execution_count": 13,
   "metadata": {},
   "outputs": [],
   "source": [
    "expert_keys = ['<','>','../','<>','’','-','*/',';','+','=','(',':','||','*','“','“','–>','&','#include','select',\n",
    "            'alert','exec','union','order','winnt','commit','alter','from','where','count','passwd','script','table',\n",
    "             'shell','into','document.cookie','etc/passwd','password','bash_history','path/child','onmouseover','User-Agent:',\n",
    "             'javascript:','between','objectclass','Accept:','upper','insert','and','href','mail=',\n",
    "             ')','<!–','/','/*','|','$','0%','cn=','cmd','or','%0a','url=','.exe','.dll','cgi-bin']"
   ]
  },
  {
   "cell_type": "markdown",
   "metadata": {},
   "source": [
    "# Left Part"
   ]
  },
  {
   "cell_type": "code",
   "execution_count": 14,
   "metadata": {},
   "outputs": [],
   "source": [
    "wnl = WordNetLemmatizer()\n",
    "def tokenizer_custom_part_left(uri):\n",
    "    uri = str(uri)\n",
    "    uri = uri.lower()\n",
    "    uri = re.sub(r\"[\\d+]|\\n\", \"\",  uri)\n",
    "    uri = re.split('(\\/|\\?|=|&|%|\\+|-|\\.|,|_|~|\\*|<|>| |\\:)', uri)\n",
    "    uri = [ wnl.lemmatize(word) for word in uri if word not in expert_keys]\n",
    "    return uri"
   ]
  },
  {
   "cell_type": "code",
   "execution_count": 15,
   "metadata": {},
   "outputs": [],
   "source": [
    "def compute_bag_part_left():\n",
    "    print(\"Calculating\")\n",
    "    vectorizer = CountVectorizer(max_features=50, tokenizer=tokenizer_custom_part_left)\n",
    "    bag = vectorizer.fit_transform(x_train)\n",
    "    joblib.dump(vectorizer, \"vectorizer_count_part_left.joblib\")\n",
    "    return vectorizer, bag\n",
    "    "
   ]
  },
  {
   "cell_type": "code",
   "execution_count": 16,
   "metadata": {
    "tags": []
   },
   "outputs": [
    {
     "name": "stdout",
     "output_type": "stream",
     "text": [
      "Calculating\n"
     ]
    }
   ],
   "source": [
    "try:\n",
    "    if force_count_left:\n",
    "        vectorizer_left, bag_left = compute_bag_part_left()\n",
    "    else:\n",
    "        print(\"Loading\")\n",
    "        vectorizer_left = joblib.load(\"vectorizer_count_part_left.joblib\")\n",
    "        bag_left = vectorizer_left.transform(x_train)\n",
    "except:\n",
    "    vectorizer_left, bag_left = compute_bag_part_left()\n",
    "    "
   ]
  },
  {
   "cell_type": "code",
   "execution_count": 17,
   "metadata": {},
   "outputs": [
    {
     "data": {
      "text/plain": [
       "(953241, 50)"
      ]
     },
     "execution_count": 17,
     "metadata": {},
     "output_type": "execute_result"
    }
   ],
   "source": [
    "x_train_part_left = bag_left.toarray()\n",
    "x_train_part_left.shape"
   ]
  },
  {
   "cell_type": "code",
   "execution_count": 18,
   "metadata": {},
   "outputs": [
    {
     "data": {
      "text/plain": [
       "array([2, 0, 0, 0, 0, 0, 0, 1, 0, 0, 0, 0, 0, 0, 0, 0, 0, 0, 0, 0, 0, 0,\n",
       "       0, 0, 0, 0, 0, 0, 0, 0, 0, 0, 0, 0, 0, 0, 0, 0, 0, 0, 0, 0, 0, 0,\n",
       "       0, 0, 0, 0, 0, 0])"
      ]
     },
     "execution_count": 18,
     "metadata": {},
     "output_type": "execute_result"
    }
   ],
   "source": [
    "x_train_part_left[0]"
   ]
  },
  {
   "cell_type": "code",
   "execution_count": 19,
   "metadata": {},
   "outputs": [],
   "source": [
    "n_x_train_part_left = normalize(x_train_part_left, axis = 1, norm = 'l1')"
   ]
  },
  {
   "cell_type": "code",
   "execution_count": 20,
   "metadata": {},
   "outputs": [
    {
     "data": {
      "text/plain": [
       "1.0"
      ]
     },
     "execution_count": 20,
     "metadata": {},
     "output_type": "execute_result"
    }
   ],
   "source": [
    "n_x_train_part_left[0].sum()"
   ]
  },
  {
   "cell_type": "code",
   "execution_count": 21,
   "metadata": {},
   "outputs": [],
   "source": [
    "x_val_part_left = vectorizer_left.transform(x_val).toarray()\n",
    "n_x_val_part_left = normalize(x_val_part_left, axis = 1, norm = 'l1')\n",
    "x_test_part_left = vectorizer_left.transform(x_test).toarray()\n",
    "n_x_test_part_left = normalize(x_test_part_left, axis = 1, norm = 'l1')"
   ]
  },
  {
   "cell_type": "markdown",
   "metadata": {},
   "source": [
    "# Right part"
   ]
  },
  {
   "cell_type": "code",
   "execution_count": 22,
   "metadata": {},
   "outputs": [],
   "source": [
    "def tokenizer_custom_part_right(uri):\n",
    "    uri = str(uri)\n",
    "    uri = uri.lower()\n",
    "    uri = re.sub(r\"[\\d+]|\\n\", \"\",  uri)\n",
    "    uri = re.split('(\\/|\\?|=|&|%|\\+|-|\\.|,|_|~|\\*|<|>| |\\:)', uri)\n",
    "    uri = [word for word in uri if word in expert_keys]\n",
    "    return uri"
   ]
  },
  {
   "cell_type": "code",
   "execution_count": 23,
   "metadata": {},
   "outputs": [],
   "source": [
    "def compute_bag_part_right():\n",
    "    print(\"Calculating\")\n",
    "    vectorizer = CountVectorizer(max_features=50, tokenizer=tokenizer_custom_part_right)\n",
    "    bag = vectorizer.fit_transform(x_train)\n",
    "    joblib.dump(vectorizer, \"vectorizer_count_part_right.joblib\")\n",
    "    return vectorizer, bag\n",
    "    "
   ]
  },
  {
   "cell_type": "code",
   "execution_count": 24,
   "metadata": {},
   "outputs": [
    {
     "name": "stdout",
     "output_type": "stream",
     "text": [
      "Calculating\n"
     ]
    }
   ],
   "source": [
    "try:\n",
    "    if force_count_right:\n",
    "        vectorizer_right, bag_right = compute_bag_part_right()\n",
    "    else:\n",
    "        print(\"Loading\")\n",
    "        vectorizer_right = joblib.load(\"vectorizer_count_part_right.joblib\")\n",
    "        bag_right = vectorizer.transform(x_train)\n",
    "except:\n",
    "    vectorizer_right, bag_right = compute_bag_part_right()"
   ]
  },
  {
   "cell_type": "code",
   "execution_count": 25,
   "metadata": {},
   "outputs": [
    {
     "data": {
      "text/plain": [
       "(953241, 43)"
      ]
     },
     "execution_count": 25,
     "metadata": {},
     "output_type": "execute_result"
    }
   ],
   "source": [
    "x_train_part_right = bag_right.toarray()\n",
    "n_x_train_part_right = x_train_part_right\n",
    "x_train_part_right.shape"
   ]
  },
  {
   "cell_type": "code",
   "execution_count": 26,
   "metadata": {},
   "outputs": [
    {
     "data": {
      "text/plain": [
       "array([0, 0, 0, 0, 0, 0, 0, 2, 0, 0, 0, 0, 0, 0, 0, 0, 0, 0, 0, 0, 0, 0,\n",
       "       0, 0, 0, 0, 0, 0, 0, 0, 0, 0, 0, 0, 0, 0, 0, 0, 0, 0, 0, 0, 0])"
      ]
     },
     "execution_count": 26,
     "metadata": {},
     "output_type": "execute_result"
    }
   ],
   "source": [
    "x_train_part_right[0]"
   ]
  },
  {
   "cell_type": "code",
   "execution_count": 27,
   "metadata": {},
   "outputs": [],
   "source": [
    "x_val_part_right = vectorizer_right.transform(x_val).toarray()\n",
    "n_x_val_part_right = x_val_part_right#normalize(x_val_part_right, axis = 1, norm = 'l1')\n",
    "x_test_part_right = vectorizer_right.transform(x_test).toarray()\n",
    "n_x_test_part_right = x_test_part_right\n",
    "#n_x_test_part_left = normalize(x_test_part_right, axis = 1, norm = 'l1')"
   ]
  },
  {
   "cell_type": "markdown",
   "metadata": {},
   "source": [
    "# Laplacian privatizer"
   ]
  },
  {
   "cell_type": "code",
   "execution_count": 28,
   "metadata": {},
   "outputs": [],
   "source": [
    "def get_mechanism(eps):\n",
    "    \n",
    "    def test_randomizer(row):\n",
    "        return row\n",
    "    \n",
    "    def laplace_randomizer(row):\n",
    "        scale = 1/eps\n",
    "        noise = np.random.laplace(0, scale, row.shape)\n",
    "        return row + noise\n",
    "    \n",
    "    return laplace_randomizer\n",
    "    \n",
    "def privatize_matrix(data, randomizer):\n",
    "    return np.apply_along_axis(randomizer, axis=1, arr=data)"
   ]
  },
  {
   "cell_type": "code",
   "execution_count": 29,
   "metadata": {},
   "outputs": [],
   "source": [
    "epsilon = 1"
   ]
  },
  {
   "cell_type": "code",
   "execution_count": 30,
   "metadata": {},
   "outputs": [
    {
     "name": "stdout",
     "output_type": "stream",
     "text": [
      "privatizing\n"
     ]
    }
   ],
   "source": [
    "if True:\n",
    "    print(\"privatizing\")\n",
    "    n_x_train_part_left = privatize_matrix(n_x_train_part_left, get_mechanism(epsilon))\n",
    "    n_x_val_part_left = privatize_matrix(n_x_val_part_left, get_mechanism(epsilon))\n",
    "    #n_x_test_part_left = privatize_matrix(n_x_test_part_left, get_mechanism(epsilon))"
   ]
  },
  {
   "cell_type": "markdown",
   "metadata": {},
   "source": [
    "# Merge"
   ]
  },
  {
   "cell_type": "code",
   "execution_count": 31,
   "metadata": {},
   "outputs": [],
   "source": [
    "f_x_train = np.hstack((n_x_train_part_left, n_x_train_part_right))"
   ]
  },
  {
   "cell_type": "code",
   "execution_count": 32,
   "metadata": {},
   "outputs": [
    {
     "data": {
      "text/plain": [
       "(953241, 93)"
      ]
     },
     "execution_count": 32,
     "metadata": {},
     "output_type": "execute_result"
    }
   ],
   "source": [
    "f_x_train.shape"
   ]
  },
  {
   "cell_type": "code",
   "execution_count": 33,
   "metadata": {},
   "outputs": [
    {
     "data": {
      "text/plain": [
       "array([ 0.90790689, -0.17568171,  1.18793303, -0.31013897, -0.25726181,\n",
       "        2.34061445,  0.7728117 ,  0.42650547,  0.23001868, -0.49632309,\n",
       "       -1.09872947, -2.50282768,  2.80585948,  0.94304462, -1.05918578,\n",
       "        2.39633491, -0.11025177,  1.13882608, -2.56935754,  0.02230324,\n",
       "        1.12459118, -0.38974109,  1.34849148, -2.42248674, -0.6895063 ,\n",
       "        2.09622737,  0.85673098,  0.33023933,  0.17405816,  1.3213531 ,\n",
       "        0.3882179 , -0.11573677, -1.96937747,  1.53860476, -0.24333473,\n",
       "       -0.46140328,  2.85496596,  0.37280348,  0.4729933 , -0.11048568,\n",
       "       -0.40345571, -1.38001613, -1.12582225, -0.18074364,  1.02493679,\n",
       "       -3.47024208,  1.99281778, -0.20412793,  0.16624165,  0.07626098,\n",
       "        0.        ,  0.        ,  0.        ,  0.        ,  0.        ,\n",
       "        0.        ,  0.        ,  2.        ,  0.        ,  0.        ,\n",
       "        0.        ,  0.        ,  0.        ,  0.        ,  0.        ,\n",
       "        0.        ,  0.        ,  0.        ,  0.        ,  0.        ,\n",
       "        0.        ,  0.        ,  0.        ,  0.        ,  0.        ,\n",
       "        0.        ,  0.        ,  0.        ,  0.        ,  0.        ,\n",
       "        0.        ,  0.        ,  0.        ,  0.        ,  0.        ,\n",
       "        0.        ,  0.        ,  0.        ,  0.        ,  0.        ,\n",
       "        0.        ,  0.        ,  0.        ])"
      ]
     },
     "execution_count": 33,
     "metadata": {},
     "output_type": "execute_result"
    }
   ],
   "source": [
    "f_x_train[0]"
   ]
  },
  {
   "cell_type": "code",
   "execution_count": 34,
   "metadata": {},
   "outputs": [],
   "source": [
    "f_x_val = np.hstack((n_x_val_part_left, n_x_val_part_right))\n",
    "f_x_test = np.hstack((n_x_test_part_left, n_x_test_part_right))"
   ]
  },
  {
   "cell_type": "code",
   "execution_count": 35,
   "metadata": {},
   "outputs": [],
   "source": [
    "t_x_train = torch.FloatTensor(f_x_train)\n",
    "t_y_train = torch.FloatTensor(y_train)\n",
    "t_x_val = torch.FloatTensor(f_x_val).to(device)\n",
    "t_y_val = torch.FloatTensor(y_val).to(device)\n",
    "t_x_test = torch.FloatTensor(f_x_test).to(device)\n",
    "t_y_test = torch.FloatTensor(y_test)\n",
    "weights = torch.FloatTensor(class_weights).to(device)"
   ]
  },
  {
   "cell_type": "code",
   "execution_count": 36,
   "metadata": {},
   "outputs": [],
   "source": [
    "train_data = []\n",
    "for i in range(len(t_x_train)):\n",
    "    train_data.append([t_x_train[i], y_train[i], weights[int(y_train[i])]])"
   ]
  },
  {
   "cell_type": "code",
   "execution_count": 37,
   "metadata": {},
   "outputs": [],
   "source": [
    "train_dataloader = DataLoader(train_data, batch_size=128, shuffle=True)"
   ]
  },
  {
   "cell_type": "code",
   "execution_count": 38,
   "metadata": {},
   "outputs": [],
   "source": [
    "class Feedforward(torch.nn.Module):\n",
    "    \n",
    "    def __init__(self, input_size):\n",
    "        super(Feedforward, self).__init__()\n",
    "        \n",
    "        self.fc1 = nn.Linear(in_features=input_size, out_features=512)\n",
    "        self.fc2 = nn.Linear(in_features=512, out_features=128)\n",
    "        self.fc3 = nn.Linear(in_features=128, out_features=1)\n",
    "        self.dropout1 = nn.Dropout(0.25)\n",
    "        self.dropout2 = nn.Dropout(0.25)\n",
    "\n",
    "    def forward(self, x):\n",
    "        x = self.fc1(x)\n",
    "        x = F.relu(x)\n",
    "        x = self.dropout1(x)\n",
    "        x = self.fc2(x)\n",
    "        x = F.relu(x)\n",
    "        x = self.dropout2(x)\n",
    "        x = self.fc3(x)\n",
    "        x = torch.sigmoid(x)\n",
    "        return x"
   ]
  },
  {
   "cell_type": "code",
   "execution_count": 41,
   "metadata": {},
   "outputs": [],
   "source": [
    "model = Feedforward(t_x_train.shape[1])\n",
    "if load_model:\n",
    "    model.load_state_dict(torch.load(\"model_half_dp.pt\"))\n",
    "criterion = nn.BCELoss()\n",
    "optimizer = torch.optim.Adam(model.parameters(), lr = 0.0001, weight_decay=0.01)"
   ]
  },
  {
   "cell_type": "code",
   "execution_count": 42,
   "metadata": {},
   "outputs": [],
   "source": [
    "model = model.to(device)"
   ]
  },
  {
   "cell_type": "code",
   "execution_count": 43,
   "metadata": {},
   "outputs": [
    {
     "name": "stdout",
     "output_type": "stream",
     "text": [
      "Epoch 0: train loss: 0.4504589551437554 : val_loss: 0.38056546449661255\n",
      "Epoch 1: train loss: 0.3327176186839313 : val_loss: 0.2877653241157532\n",
      "Epoch 2: train loss: 0.31278067558331596 : val_loss: 0.28973084688186646\n",
      "Epoch 3: train loss: 0.30999815429307753 : val_loss: 0.31547367572784424\n",
      "Epoch 4: train loss: 0.30936680780873743 : val_loss: 0.2882252633571625\n",
      "Epoch 5: train loss: 0.30854950387182895 : val_loss: 0.27594318985939026\n",
      "Epoch 6: train loss: 0.308611690586935 : val_loss: 0.30708643794059753\n",
      "Epoch 7: train loss: 0.3081391876239318 : val_loss: 0.3061755299568176\n",
      "Epoch 8: train loss: 0.3080275017101914 : val_loss: 0.25756773352622986\n",
      "Epoch 9: train loss: 0.3080461113608645 : val_loss: 0.31588035821914673\n",
      "Epoch 10: train loss: 0.30805404306210327 : val_loss: 0.29023006558418274\n",
      "Epoch 11: train loss: 0.3082115347262084 : val_loss: 0.27556127309799194\n",
      "Epoch 12: train loss: 0.30788438388163464 : val_loss: 0.29321402311325073\n",
      "Epoch 13: train loss: 0.3081507535899412 : val_loss: 0.29507574439048767\n",
      "Epoch 14: train loss: 0.3080043555962604 : val_loss: 0.28349530696868896\n",
      "Epoch 15: train loss: 0.30767460449905837 : val_loss: 0.28811678290367126\n",
      "Epoch 16: train loss: 0.30814821823178984 : val_loss: 0.307796835899353\n",
      "Epoch 17: train loss: 0.30800520249559404 : val_loss: 0.31142720580101013\n",
      "Epoch 18: train loss: 0.30788703234296066 : val_loss: 0.2965746223926544\n",
      "Epoch 19: train loss: 0.3081228587592359 : val_loss: 0.2725246250629425\n",
      "Epoch 20: train loss: 0.3082404690509548 : val_loss: 0.2948632538318634\n",
      "Epoch 21: train loss: 0.3082527275178201 : val_loss: 0.3043937683105469\n",
      "Epoch 22: train loss: 0.30801703296321675 : val_loss: 0.28484371304512024\n",
      "Epoch 23: train loss: 0.30750942722695185 : val_loss: 0.29093438386917114\n",
      "Epoch 24: train loss: 0.307950059391126 : val_loss: 0.3054249882698059\n",
      "Epoch 25: train loss: 0.3080763180413064 : val_loss: 0.2712573707103729\n",
      "Epoch 26: train loss: 0.30819357981131074 : val_loss: 0.3115687966346741\n",
      "Epoch 27: train loss: 0.30801358183287686 : val_loss: 0.29767850041389465\n",
      "Epoch 28: train loss: 0.3075545639745995 : val_loss: 0.3070840835571289\n",
      "Epoch 29: train loss: 0.307845607996147 : val_loss: 0.30623480677604675\n",
      "Epoch 30: train loss: 0.30798345522616943 : val_loss: 0.2853996455669403\n",
      "Epoch 31: train loss: 0.30777380608670435 : val_loss: 0.29925376176834106\n",
      "Epoch 32: train loss: 0.3078343315114028 : val_loss: 0.2994418144226074\n",
      "Epoch 33: train loss: 0.3080116647368679 : val_loss: 0.29470914602279663\n",
      "Epoch 34: train loss: 0.30790215234995433 : val_loss: 0.2871910333633423\n",
      "Epoch 35: train loss: 0.3082401998867266 : val_loss: 0.2915227711200714\n",
      "Epoch 36: train loss: 0.3075771841913798 : val_loss: 0.2873949408531189\n",
      "Epoch 37: train loss: 0.3079221095513677 : val_loss: 0.31641629338264465\n",
      "Epoch 38: train loss: 0.30797442516249984 : val_loss: 0.2698948085308075\n",
      "Epoch 39: train loss: 0.3084566394421327 : val_loss: 0.29034972190856934\n",
      "Epoch 40: train loss: 0.30801394691432715 : val_loss: 0.27167683839797974\n",
      "Epoch 41: train loss: 0.3081931797227353 : val_loss: 0.32766056060791016\n",
      "Epoch 42: train loss: 0.3077373446578562 : val_loss: 0.3060096204280853\n",
      "Epoch 43: train loss: 0.3078033547202239 : val_loss: 0.30661705136299133\n",
      "Epoch 44: train loss: 0.3077092741132903 : val_loss: 0.3000832498073578\n",
      "Epoch 45: train loss: 0.3080352689744755 : val_loss: 0.3031274378299713\n",
      "Epoch 46: train loss: 0.3075296799487221 : val_loss: 0.30430105328559875\n",
      "Epoch 47: train loss: 0.30778428521827583 : val_loss: 0.2963791787624359\n",
      "Epoch 48: train loss: 0.3078093063576441 : val_loss: 0.29365336894989014\n",
      "Epoch 49: train loss: 0.3079760346009479 : val_loss: 0.2910802364349365\n"
     ]
    }
   ],
   "source": [
    "history_train = []\n",
    "history_val = []\n",
    "if not load_model:\n",
    "    epoch = 50\n",
    "\n",
    "    for epoch in range(epoch):\n",
    "        #Poner el modelo en modeo entrenamiento\n",
    "        model.train()\n",
    "        epoch_loss = 0\n",
    "        for idx, batch in enumerate(train_dataloader):\n",
    "            x_batch, y_batch = batch[0].to(device), batch[1].to(device) \n",
    "\n",
    "            #Llevar gradientes a zero para calcularlos nuevamente\n",
    "            optimizer.zero_grad()\n",
    "\n",
    "            # Forward pass\n",
    "            y_pred = model(x_batch)\n",
    "\n",
    "            # Computar Loss\n",
    "            criterion.weight = batch[2]\n",
    "            loss = criterion(y_pred.squeeze(), y_batch)\n",
    "            epoch_loss += loss.item()\n",
    "            print(f'Epoch {epoch}: batch {idx} train loss: {loss.item()}\\r', end=\"\")\n",
    "\n",
    "            # Backward pass\n",
    "            loss.backward()\n",
    "            optimizer.step()\n",
    "\n",
    "            del x_batch\n",
    "            del y_batch\n",
    "\n",
    "\n",
    "        #Evaluar loss en todo Train \n",
    "        epoch_mean = epoch_loss/len(train_dataloader)\n",
    "        history_train.append(epoch_mean)\n",
    "\n",
    "        model.eval()\n",
    "        with torch.no_grad():\n",
    "            #Evaluar loss en un val \n",
    "            y_pred_val = model(t_x_val)\n",
    "            criterion.weight = None\n",
    "            loss_val = criterion(y_pred_val.squeeze(), t_y_val)\n",
    "            history_val.append(loss_val.item())\n",
    "            print(f'Epoch {epoch}: train loss: {epoch_mean} : val_loss: {loss_val}')\n",
    "    torch.save(model.state_dict(), \"model_half_dp.pt\")"
   ]
  },
  {
   "cell_type": "code",
   "execution_count": 44,
   "metadata": {},
   "outputs": [
    {
     "data": {
      "text/plain": [
       "20"
      ]
     },
     "execution_count": 44,
     "metadata": {},
     "output_type": "execute_result"
    }
   ],
   "source": [
    "del loss_val\n",
    "del y_pred_val\n",
    "del y_pred\n",
    "del loss\n",
    "del weights\n",
    "torch.cuda.empty_cache()\n",
    "gc.collect()"
   ]
  },
  {
   "cell_type": "code",
   "execution_count": 45,
   "metadata": {},
   "outputs": [
    {
     "data": {
      "image/png": "[encoded data removed]",
      "text/plain": [
       "<Figure size 432x288 with 1 Axes>"
      ]
     },
     "metadata": {
      "needs_background": "light"
     },
     "output_type": "display_data"
    }
   ],
   "source": [
    "#plt.axis([0, 3000, 0, 200])\n",
    "plt.plot(history_train, label='train loss mean')\n",
    "plt.plot(history_val, label='val loss')\n",
    "plt.legend()\n",
    "plt.show()"
   ]
  },
  {
   "cell_type": "code",
   "execution_count": 46,
   "metadata": {},
   "outputs": [],
   "source": [
    "model.eval()\n",
    "y_val_test = model(t_x_val)\n",
    "y_val_test = y_val_test.squeeze().cpu().detach().numpy()"
   ]
  },
  {
   "cell_type": "code",
   "execution_count": 47,
   "metadata": {},
   "outputs": [
    {
     "data": {
      "text/plain": [
       "0.2842752"
      ]
     },
     "execution_count": 47,
     "metadata": {},
     "output_type": "execute_result"
    }
   ],
   "source": [
    "fpr, tpr, thresholds = roc_curve(y_val, y_val_test)\n",
    "optimal_idx = np.argmax(tpr - fpr)\n",
    "optimal_threshold = thresholds[optimal_idx]\n",
    "optimal_threshold"
   ]
  },
  {
   "cell_type": "code",
   "execution_count": 48,
   "metadata": {},
   "outputs": [],
   "source": [
    "model.eval()\n",
    "y_pred_test = model(t_x_test)\n",
    "y_pred_test = y_pred_test.squeeze().cpu().detach().numpy()"
   ]
  },
  {
   "cell_type": "code",
   "execution_count": 49,
   "metadata": {},
   "outputs": [],
   "source": [
    "y_hat = y_pred_test.squeeze() > optimal_threshold"
   ]
  },
  {
   "cell_type": "code",
   "execution_count": 50,
   "metadata": {},
   "outputs": [
    {
     "name": "stdout",
     "output_type": "stream",
     "text": [
      "247809 32551 1322 16207\n"
     ]
    }
   ],
   "source": [
    "tn, fp, fn, tp = confusion_matrix(y_test, y_hat).ravel()\n",
    "print(tn, fp, fn, tp)"
   ]
  },
  {
   "cell_type": "code",
   "execution_count": 51,
   "metadata": {},
   "outputs": [
    {
     "data": {
      "text/plain": [
       "0.9245821210565349"
      ]
     },
     "execution_count": 51,
     "metadata": {},
     "output_type": "execute_result"
    }
   ],
   "source": [
    "tpr = tp / (tp + fn)\n",
    "tpr"
   ]
  },
  {
   "cell_type": "code",
   "execution_count": 52,
   "metadata": {},
   "outputs": [
    {
     "data": {
      "text/plain": [
       "0.8838957055214723"
      ]
     },
     "execution_count": 52,
     "metadata": {},
     "output_type": "execute_result"
    }
   ],
   "source": [
    "tnr = tn / (tn + fp)\n",
    "tnr"
   ]
  },
  {
   "cell_type": "code",
   "execution_count": null,
   "metadata": {},
   "outputs": [],
   "source": []
  }
 ],
 "metadata": {
  "kernelspec": {
   "display_name": "Python 3",
   "language": "python",
   "name": "python3"
  },
  "language_info": {
   "codemirror_mode": {
    "name": "ipython",
    "version": 3
   },
   "file_extension": ".py",
   "mimetype": "text/x-python",
   "name": "python",
   "nbconvert_exporter": "python",
   "pygments_lexer": "ipython3",
   "version": "3.7.6"
  }
 },
 "nbformat": 4,
 "nbformat_minor": 2
}
