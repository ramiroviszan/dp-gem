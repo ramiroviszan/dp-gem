{
 "cells": [
  {
   "cell_type": "code",
   "execution_count": 1,
   "metadata": {},
   "outputs": [],
   "source": [
    "import sys\n",
    "import re\n",
    "import random\n",
    "import joblib\n",
    "import numpy as np\n",
    "import pandas as pd\n",
    "import tensorflow as tf\n",
    "from sklearn.model_selection import train_test_split\n",
    "from sklearn.metrics import confusion_matrix, roc_curve\n",
    "from sklearn.feature_extraction.text import TfidfVectorizer, CountVectorizer\n",
    "from sklearn.utils import class_weight\n",
    "from sklearn.preprocessing import normalize\n",
    "\n",
    "import nltk\n",
    "from nltk.stem import WordNetLemmatizer\n",
    "\n",
    "import matplotlib.pyplot as plt\n",
    "\n",
    "sys.path.insert(0, \"../../\")\n",
    "from common import data_utils as data_utils\n",
    "from common import plot_utils as plot"
   ]
  },
  {
   "cell_type": "code",
   "execution_count": 2,
   "metadata": {},
   "outputs": [],
   "source": [
    "folder = \"\""
   ]
  },
  {
   "cell_type": "code",
   "execution_count": 3,
   "metadata": {},
   "outputs": [],
   "source": [
    "# URI as text\n",
    "uri_encoding = \"utf-8\"\n",
    "out_uri_encoding = \"utf-8\"\n",
    "output_file_normal = \"uri_all_normal_wordlevel.txt\"\n",
    "output_file_abnormal = \"uri_all_abnormal_wordlevel.txt\""
   ]
  },
  {
   "cell_type": "code",
   "execution_count": 4,
   "metadata": {},
   "outputs": [],
   "source": [
    "def read(file):\n",
    "    with open(str(folder + file), 'r', encoding=uri_encoding, errors=\"backslashreplace\") as f:\n",
    "        samples = list(f)\n",
    "        return samples"
   ]
  },
  {
   "cell_type": "code",
   "execution_count": 5,
   "metadata": {},
   "outputs": [
    {
     "data": {
      "text/plain": [
       "1401537"
      ]
     },
     "execution_count": 5,
     "metadata": {},
     "output_type": "execute_result"
    }
   ],
   "source": [
    "good_uris = read(\"uri_all_normal.txt\")\n",
    "len(good_uris)"
   ]
  },
  {
   "cell_type": "code",
   "execution_count": 6,
   "metadata": {},
   "outputs": [
    {
     "data": {
      "text/plain": [
       "87904"
      ]
     },
     "execution_count": 6,
     "metadata": {},
     "output_type": "execute_result"
    }
   ],
   "source": [
    "bad_uris = read(\"uri_all_abnormal.txt\")\n",
    "len(bad_uris)"
   ]
  },
  {
   "cell_type": "code",
   "execution_count": 7,
   "metadata": {},
   "outputs": [
    {
     "data": {
      "text/plain": [
       "1489441"
      ]
     },
     "execution_count": 7,
     "metadata": {},
     "output_type": "execute_result"
    }
   ],
   "source": [
    "all_uris = []\n",
    "all_uris.extend(good_uris)\n",
    "all_uris.extend(bad_uris)\n",
    "len(all_uris)"
   ]
  },
  {
   "cell_type": "code",
   "execution_count": 8,
   "metadata": {},
   "outputs": [],
   "source": [
    "y = np.concatenate((np.zeros(len(good_uris)), np.ones(len(bad_uris))))"
   ]
  },
  {
   "cell_type": "code",
   "execution_count": 9,
   "metadata": {},
   "outputs": [],
   "source": [
    "x_train, x_test, y_train, y_test = train_test_split(all_uris, y, test_size=0.20, random_state=47)"
   ]
  },
  {
   "cell_type": "code",
   "execution_count": 10,
   "metadata": {},
   "outputs": [],
   "source": [
    "x_train, x_val, y_train, y_val = train_test_split(x_train, y_train, test_size=0.20, random_state=47)"
   ]
  },
  {
   "cell_type": "code",
   "execution_count": 11,
   "metadata": {},
   "outputs": [
    {
     "data": {
      "text/plain": [
       "array([0.53144074, 8.45146733])"
      ]
     },
     "execution_count": 11,
     "metadata": {},
     "output_type": "execute_result"
    }
   ],
   "source": [
    "class_weights = class_weight.compute_class_weight('balanced',np.unique(y_train), y_train)\n",
    "class_weights"
   ]
  },
  {
   "cell_type": "code",
   "execution_count": 12,
   "metadata": {},
   "outputs": [],
   "source": [
    "expert_keys = ['<','>','../','<>','’','-','*/',';','+','=','(',':','||','*','“','“','–>','&','#include','select',\n",
    "            'alert','exec','union','order','winnt','commit','alter','from','where','count','passwd','script','table',\n",
    "             'shell','into','document.cookie','etc/passwd','password','bash_history','path/child','onmouseover','User-Agent:',\n",
    "             'javascript:','between','objectclass','Accept:','upper','insert','and','href','mail=',\n",
    "             ')','<!–','/','/*','|','$','0%','cn=','cmd','or','%0a','url=','.exe','.dll','cgi-bin']"
   ]
  },
  {
   "cell_type": "markdown",
   "metadata": {},
   "source": [
    "# Left Part"
   ]
  },
  {
   "cell_type": "code",
   "execution_count": 13,
   "metadata": {},
   "outputs": [],
   "source": [
    "wnl = WordNetLemmatizer()\n",
    "def tokenizer_custom_part_left(uri):\n",
    "    uri = str(uri)\n",
    "    uri = uri.lower()\n",
    "    uri = re.sub(r\"[\\d+]|\\n\", \"\",  uri)\n",
    "    uri = re.split('(\\/|\\?|=|&|%|\\+|-|\\.|,|_|~|\\*|<|>| |\\:)', uri)\n",
    "    uri = [ wnl.lemmatize(word) for word in uri if word not in expert_keys]\n",
    "    return uri"
   ]
  },
  {
   "cell_type": "code",
   "execution_count": 14,
   "metadata": {},
   "outputs": [],
   "source": [
    "def compute_bag_part_left():\n",
    "    print(\"Calculating\")\n",
    "    vectorizer = CountVectorizer(max_features=500, tokenizer=tokenizer_custom_part_left)\n",
    "    bag = vectorizer.fit_transform(x_train)\n",
    "    joblib.dump(vectorizer, \"vectorizer_count_part_left.joblib\")\n",
    "    return vectorizer, bag\n",
    "    "
   ]
  },
  {
   "cell_type": "code",
   "execution_count": 15,
   "metadata": {},
   "outputs": [
    {
     "name": "stdout",
     "output_type": "stream",
     "text": [
      "Loading\n"
     ]
    }
   ],
   "source": [
    "force = False\n",
    "try:\n",
    "    if force:\n",
    "        vectorizer_left, bag_left = compute_bag_part_left()\n",
    "    else:\n",
    "        print(\"Loading\")\n",
    "        vectorizer_left = joblib.load(\"vectorizer_count_part_left.joblib\")\n",
    "        bag_left = vectorizer_left.transform(x_train)\n",
    "except:\n",
    "    vectorizer_left, bag_left = compute_bag_part_left()"
   ]
  },
  {
   "cell_type": "code",
   "execution_count": 16,
   "metadata": {},
   "outputs": [
    {
     "data": {
      "text/plain": [
       "(953241, 500)"
      ]
     },
     "execution_count": 16,
     "metadata": {},
     "output_type": "execute_result"
    }
   ],
   "source": [
    "x_train_part_left = bag_left.toarray()\n",
    "x_train_part_left.shape"
   ]
  },
  {
   "cell_type": "code",
   "execution_count": 17,
   "metadata": {},
   "outputs": [],
   "source": [
    "x_val_part_left = vectorizer_left.transform(x_val).toarray()"
   ]
  },
  {
   "cell_type": "code",
   "execution_count": 18,
   "metadata": {},
   "outputs": [],
   "source": [
    "x_test_part_left = vectorizer_left.transform(x_test).toarray()"
   ]
  },
  {
   "cell_type": "markdown",
   "metadata": {},
   "source": [
    "# Right Part"
   ]
  },
  {
   "cell_type": "code",
   "execution_count": 19,
   "metadata": {},
   "outputs": [],
   "source": [
    "def tokenizer_custom_part_right(uri):\n",
    "    uri = str(uri)\n",
    "    uri = uri.lower()\n",
    "    uri = re.sub(r\"[\\d+]|\\n\", \"\",  uri)\n",
    "    uri = re.split('(\\/|\\?|=|&|%|\\+|-|\\.|,|_|~|\\*|<|>| |\\:)', uri)\n",
    "    uri = [word for word in uri if word in expert_keys]\n",
    "    return uri"
   ]
  },
  {
   "cell_type": "code",
   "execution_count": 20,
   "metadata": {},
   "outputs": [],
   "source": [
    "def compute_bag_part_right():\n",
    "    print(\"Calculating\")\n",
    "    vectorizer = CountVectorizer(max_features=500, tokenizer=tokenizer_custom_part_right)\n",
    "    bag = vectorizer.fit_transform(x_train)\n",
    "    joblib.dump(vectorizer, \"vectorizer_count_part_right.joblib\")\n",
    "    return vectorizer, bag\n",
    "    "
   ]
  },
  {
   "cell_type": "code",
   "execution_count": 21,
   "metadata": {},
   "outputs": [
    {
     "name": "stdout",
     "output_type": "stream",
     "text": [
      "Loading\n",
      "Calculating\n"
     ]
    }
   ],
   "source": [
    "force = False\n",
    "try:\n",
    "    if force:\n",
    "        vectorizer_right, bag_right = compute_bag_part_right()\n",
    "    else:\n",
    "        print(\"Loading\")\n",
    "        vectorizer_right = joblib.load(\"vectorizer_count_part_right.joblib\")\n",
    "        bag_right = vectorizer.transform(x_train)\n",
    "except:\n",
    "    vectorizer_right, bag_right = compute_bag_part_right()"
   ]
  },
  {
   "cell_type": "code",
   "execution_count": 22,
   "metadata": {},
   "outputs": [
    {
     "data": {
      "text/plain": [
       "(953241, 43)"
      ]
     },
     "execution_count": 22,
     "metadata": {},
     "output_type": "execute_result"
    }
   ],
   "source": [
    "x_train_part_right = bag_right.toarray()\n",
    "x_train_part_right.shape"
   ]
  },
  {
   "cell_type": "code",
   "execution_count": 23,
   "metadata": {},
   "outputs": [],
   "source": [
    "x_val_part_right = vectorizer_right.transform(x_val).toarray()"
   ]
  },
  {
   "cell_type": "code",
   "execution_count": 24,
   "metadata": {},
   "outputs": [],
   "source": [
    "x_test_part_right = vectorizer_right.transform(x_test).toarray()"
   ]
  },
  {
   "cell_type": "markdown",
   "metadata": {},
   "source": [
    "# Laplacian privatizer"
   ]
  },
  {
   "cell_type": "code",
   "execution_count": 25,
   "metadata": {},
   "outputs": [],
   "source": [
    "n_x_train_part_left = x_train_part_left\n",
    "n_x_val_part_left = x_val_part_left\n",
    "n_x_test_part_left = x_test_part_left"
   ]
  },
  {
   "cell_type": "markdown",
   "metadata": {},
   "source": [
    "# Merge"
   ]
  },
  {
   "cell_type": "code",
   "execution_count": 26,
   "metadata": {},
   "outputs": [],
   "source": [
    "f_x_train = np.hstack((n_x_train_part_left, x_train_part_right))\n",
    "f_x_val = np.hstack((n_x_val_part_left, x_val_part_right))\n",
    "f_x_test = np.hstack((n_x_test_part_left, x_test_part_right))"
   ]
  },
  {
   "cell_type": "markdown",
   "metadata": {},
   "source": [
    "# DP Type\n"
   ]
  },
  {
   "cell_type": "code",
   "execution_count": 27,
   "metadata": {},
   "outputs": [],
   "source": [
    "dp = True"
   ]
  },
  {
   "cell_type": "code",
   "execution_count": 28,
   "metadata": {},
   "outputs": [],
   "source": [
    "def get_mechanism(eps):\n",
    "    \n",
    "    def test_randomizer(row):\n",
    "        return row\n",
    "    \n",
    "    def laplace_randomizer(row):\n",
    "        scale = 1/eps\n",
    "        noise = np.random.laplace(0, scale, row.shape)\n",
    "        return row + noise\n",
    "    \n",
    "    return laplace_randomizer\n",
    "    \n",
    "def privatize_matrix(data, randomizer):\n",
    "    return np.apply_along_axis(randomizer, axis=1, arr=data)"
   ]
  },
  {
   "cell_type": "code",
   "execution_count": 29,
   "metadata": {},
   "outputs": [],
   "source": [
    "epsilon = 0.5"
   ]
  },
  {
   "cell_type": "code",
   "execution_count": 30,
   "metadata": {},
   "outputs": [
    {
     "name": "stdout",
     "output_type": "stream",
     "text": [
      "privatizing\n"
     ]
    }
   ],
   "source": [
    "if dp:\n",
    "    print(\"privatizing\")\n",
    "    f_x_train = normalize(f_x_train, axis = 1, norm = 'l1')\n",
    "    f_x_train = privatize_matrix(f_x_train, get_mechanism(epsilon))\n",
    "    \n",
    "    f_x_val = normalize(f_x_val, axis = 1, norm = 'l1')\n",
    "    f_x_val = privatize_matrix(f_x_val, get_mechanism(epsilon))\n",
    "    \n",
    "    f_x_test = normalize(f_x_test, axis = 1, norm = 'l1')"
   ]
  },
  {
   "cell_type": "markdown",
   "metadata": {},
   "source": [
    "# Model"
   ]
  },
  {
   "cell_type": "code",
   "execution_count": 31,
   "metadata": {},
   "outputs": [],
   "source": [
    "model = tf.keras.Sequential()\n",
    "model.add(tf.keras.layers.Dense(512, input_shape=(f_x_train.shape[1],), activation='relu'))\n",
    "model.add(tf.keras.layers.Dropout(0.1))\n",
    "model.add(tf.keras.layers.Dense(256, activation='relu'))\n",
    "model.add(tf.keras.layers.Dropout(0.1))\n",
    "model.add(tf.keras.layers.Dense(128, activation='relu'))\n",
    "model.add(tf.keras.layers.Dropout(0.1))\n",
    "model.add(tf.keras.layers.Dense(1, activation='sigmoid'))"
   ]
  },
  {
   "cell_type": "code",
   "execution_count": 32,
   "metadata": {},
   "outputs": [
    {
     "name": "stdout",
     "output_type": "stream",
     "text": [
      "Model: \"sequential\"\n",
      "_________________________________________________________________\n",
      "Layer (type)                 Output Shape              Param #   \n",
      "=================================================================\n",
      "dense (Dense)                (None, 512)               278528    \n",
      "_________________________________________________________________\n",
      "dropout (Dropout)            (None, 512)               0         \n",
      "_________________________________________________________________\n",
      "dense_1 (Dense)              (None, 256)               131328    \n",
      "_________________________________________________________________\n",
      "dropout_1 (Dropout)          (None, 256)               0         \n",
      "_________________________________________________________________\n",
      "dense_2 (Dense)              (None, 128)               32896     \n",
      "_________________________________________________________________\n",
      "dropout_2 (Dropout)          (None, 128)               0         \n",
      "_________________________________________________________________\n",
      "dense_3 (Dense)              (None, 1)                 129       \n",
      "=================================================================\n",
      "Total params: 442,881\n",
      "Trainable params: 442,881\n",
      "Non-trainable params: 0\n",
      "_________________________________________________________________\n"
     ]
    }
   ],
   "source": [
    "model.summary()"
   ]
  },
  {
   "cell_type": "code",
   "execution_count": 33,
   "metadata": {},
   "outputs": [],
   "source": [
    "optim = tf.optimizers.Adam(lr=0.0001)\n",
    "model.compile(optimizer=optim, loss='binary_crossentropy')"
   ]
  },
  {
   "cell_type": "code",
   "execution_count": 34,
   "metadata": {},
   "outputs": [],
   "source": [
    "class_weights = {0: class_weights[0], 1: class_weights[1]}"
   ]
  },
  {
   "cell_type": "code",
   "execution_count": 35,
   "metadata": {},
   "outputs": [],
   "source": [
    "callback = tf.keras.callbacks.EarlyStopping(monitor='val_loss', patience=10)"
   ]
  },
  {
   "cell_type": "code",
   "execution_count": 36,
   "metadata": {},
   "outputs": [
    {
     "name": "stdout",
     "output_type": "stream",
     "text": [
      "Epoch 1/50\n",
      "7448/7448 [==============================] - 34s 5ms/step - loss: 0.7039 - val_loss: 0.6961\n",
      "Epoch 2/50\n",
      "7448/7448 [==============================] - 34s 5ms/step - loss: 0.6925 - val_loss: 0.7047\n",
      "Epoch 3/50\n",
      "7448/7448 [==============================] - 34s 5ms/step - loss: 0.6881 - val_loss: 0.6692\n",
      "Epoch 4/50\n",
      "7448/7448 [==============================] - 34s 5ms/step - loss: 0.6781 - val_loss: 0.7399\n",
      "Epoch 5/50\n",
      "7448/7448 [==============================] - 34s 5ms/step - loss: 0.6597 - val_loss: 0.7286\n",
      "Epoch 6/50\n",
      "7448/7448 [==============================] - 34s 5ms/step - loss: 0.6332 - val_loss: 0.7021\n",
      "Epoch 7/50\n",
      "7448/7448 [==============================] - 34s 5ms/step - loss: 0.6062 - val_loss: 0.6706\n",
      "Epoch 8/50\n",
      "7448/7448 [==============================] - 34s 5ms/step - loss: 0.5769 - val_loss: 0.6788\n",
      "Epoch 9/50\n",
      "7448/7448 [==============================] - 34s 5ms/step - loss: 0.5520 - val_loss: 0.6911\n",
      "Epoch 10/50\n",
      "7448/7448 [==============================] - 34s 5ms/step - loss: 0.5276 - val_loss: 0.7046\n",
      "Epoch 11/50\n",
      "7448/7448 [==============================] - 34s 5ms/step - loss: 0.5061 - val_loss: 0.6474\n",
      "Epoch 12/50\n",
      "7448/7448 [==============================] - 34s 5ms/step - loss: 0.4885 - val_loss: 0.6698\n",
      "Epoch 13/50\n",
      "7448/7448 [==============================] - 34s 5ms/step - loss: 0.4716 - val_loss: 0.5956\n",
      "Epoch 14/50\n",
      "7448/7448 [==============================] - 34s 5ms/step - loss: 0.4557 - val_loss: 0.6487\n",
      "Epoch 15/50\n",
      "7448/7448 [==============================] - 34s 5ms/step - loss: 0.4401 - val_loss: 0.6730\n",
      "Epoch 16/50\n",
      "7448/7448 [==============================] - 34s 5ms/step - loss: 0.4306 - val_loss: 0.6285\n",
      "Epoch 17/50\n",
      "7448/7448 [==============================] - 34s 5ms/step - loss: 0.4163 - val_loss: 0.6020\n",
      "Epoch 18/50\n",
      "7448/7448 [==============================] - 34s 5ms/step - loss: 0.4057 - val_loss: 0.6200\n",
      "Epoch 19/50\n",
      "7448/7448 [==============================] - 34s 5ms/step - loss: 0.3974 - val_loss: 0.6032\n",
      "Epoch 20/50\n",
      "7448/7448 [==============================] - 34s 5ms/step - loss: 0.3858 - val_loss: 0.6454\n",
      "Epoch 21/50\n",
      "7448/7448 [==============================] - 34s 5ms/step - loss: 0.3810 - val_loss: 0.6029\n",
      "Epoch 22/50\n",
      "7448/7448 [==============================] - 34s 5ms/step - loss: 0.3718 - val_loss: 0.6042\n",
      "Epoch 23/50\n",
      "7448/7448 [==============================] - 34s 5ms/step - loss: 0.3648 - val_loss: 0.6067\n"
     ]
    }
   ],
   "source": [
    "history = model.fit(f_x_train, y_train, epochs=50, batch_size=128, validation_data=(f_x_val, y_val), class_weight=class_weights, callbacks=[callback])"
   ]
  },
  {
   "cell_type": "code",
   "execution_count": 37,
   "metadata": {},
   "outputs": [
    {
     "data": {
      "image/png": "[encoded data removed]",
      "text/plain": [
       "<Figure size 432x288 with 1 Axes>"
      ]
     },
     "metadata": {
      "needs_background": "light"
     },
     "output_type": "display_data"
    }
   ],
   "source": [
    "plot.plot(history)"
   ]
  },
  {
   "cell_type": "code",
   "execution_count": 38,
   "metadata": {},
   "outputs": [],
   "source": [
    "val_pred = model.predict(f_x_val)"
   ]
  },
  {
   "cell_type": "code",
   "execution_count": 39,
   "metadata": {},
   "outputs": [
    {
     "data": {
      "text/plain": [
       "0.28139108"
      ]
     },
     "execution_count": 39,
     "metadata": {},
     "output_type": "execute_result"
    }
   ],
   "source": [
    "fpr, tpr, thresholds = roc_curve(y_val, val_pred)\n",
    "optimal_idx = np.argmax(tpr - fpr)\n",
    "optimal_threshold = thresholds[optimal_idx]\n",
    "optimal_threshold"
   ]
  },
  {
   "cell_type": "code",
   "execution_count": 40,
   "metadata": {},
   "outputs": [],
   "source": [
    "test_pred = model.predict(f_x_test)"
   ]
  },
  {
   "cell_type": "code",
   "execution_count": 49,
   "metadata": {},
   "outputs": [],
   "source": [
    "y_hat = test_pred > optimal_threshold"
   ]
  },
  {
   "cell_type": "code",
   "execution_count": 50,
   "metadata": {},
   "outputs": [
    {
     "name": "stdout",
     "output_type": "stream",
     "text": [
      "0 280360 0 17529\n"
     ]
    }
   ],
   "source": [
    "tn, fp, fn, tp = confusion_matrix(y_test, y_hat).ravel()\n",
    "print(tn, fp, fn, tp)"
   ]
  },
  {
   "cell_type": "code",
   "execution_count": 51,
   "metadata": {},
   "outputs": [
    {
     "data": {
      "text/plain": [
       "1.0"
      ]
     },
     "execution_count": 51,
     "metadata": {},
     "output_type": "execute_result"
    }
   ],
   "source": [
    "\n",
    "tpr = tp / (tp + fn)\n",
    "tpr\n"
   ]
  },
  {
   "cell_type": "code",
   "execution_count": 52,
   "metadata": {},
   "outputs": [
    {
     "data": {
      "text/plain": [
       "0.0"
      ]
     },
     "execution_count": 52,
     "metadata": {},
     "output_type": "execute_result"
    }
   ],
   "source": [
    "tnr = tn / (tn + fp)\n",
    "tnr"
   ]
  },
  {
   "cell_type": "code",
   "execution_count": null,
   "metadata": {},
   "outputs": [],
   "source": []
  },
  {
   "cell_type": "code",
   "execution_count": null,
   "metadata": {},
   "outputs": [],
   "source": []
  }
 ],
 "metadata": {
  "kernelspec": {
   "display_name": "Python 3",
   "language": "python",
   "name": "python3"
  },
  "language_info": {
   "codemirror_mode": {
    "name": "ipython",
    "version": 3
   },
   "file_extension": ".py",
   "mimetype": "text/x-python",
   "name": "python",
   "nbconvert_exporter": "python",
   "pygments_lexer": "ipython3",
   "version": "3.7.6"
  }
 },
 "nbformat": 4,
 "nbformat_minor": 4
}
