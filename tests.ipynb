{
 "cells": [
  {
   "cell_type": "code",
   "execution_count": 289,
   "metadata": {},
   "outputs": [],
   "source": [
    "import pandas as pd"
   ]
  },
  {
   "cell_type": "code",
   "execution_count": 313,
   "metadata": {},
   "outputs": [
    {
     "output_type": "execute_result",
     "data": {
      "text/plain": "           date  eps  iter  use_top_k  threshold   tn   fp   fn   tp       acc\n0  1.586548e+09    0     0          0   0.000050  670  169  285  554  0.729440\n1  1.586548e+09    0     0          0   0.000100  670  169  317  522  0.710369\n2  1.586548e+09    0     0          0   0.000400  759   80  366  473  0.734207\n3  1.586548e+09    0     0          0   0.000691  839    0  370  469  0.779499",
      "text/html": "<div>\n<style scoped>\n    .dataframe tbody tr th:only-of-type {\n        vertical-align: middle;\n    }\n\n    .dataframe tbody tr th {\n        vertical-align: top;\n    }\n\n    .dataframe thead th {\n        text-align: right;\n    }\n</style>\n<table border=\"1\" class=\"dataframe\">\n  <thead>\n    <tr style=\"text-align: right;\">\n      <th></th>\n      <th>date</th>\n      <th>eps</th>\n      <th>iter</th>\n      <th>use_top_k</th>\n      <th>threshold</th>\n      <th>tn</th>\n      <th>fp</th>\n      <th>fn</th>\n      <th>tp</th>\n      <th>acc</th>\n    </tr>\n  </thead>\n  <tbody>\n    <tr>\n      <td>0</td>\n      <td>1.586548e+09</td>\n      <td>0</td>\n      <td>0</td>\n      <td>0</td>\n      <td>0.000050</td>\n      <td>670</td>\n      <td>169</td>\n      <td>285</td>\n      <td>554</td>\n      <td>0.729440</td>\n    </tr>\n    <tr>\n      <td>1</td>\n      <td>1.586548e+09</td>\n      <td>0</td>\n      <td>0</td>\n      <td>0</td>\n      <td>0.000100</td>\n      <td>670</td>\n      <td>169</td>\n      <td>317</td>\n      <td>522</td>\n      <td>0.710369</td>\n    </tr>\n    <tr>\n      <td>2</td>\n      <td>1.586548e+09</td>\n      <td>0</td>\n      <td>0</td>\n      <td>0</td>\n      <td>0.000400</td>\n      <td>759</td>\n      <td>80</td>\n      <td>366</td>\n      <td>473</td>\n      <td>0.734207</td>\n    </tr>\n    <tr>\n      <td>3</td>\n      <td>1.586548e+09</td>\n      <td>0</td>\n      <td>0</td>\n      <td>0</td>\n      <td>0.000691</td>\n      <td>839</td>\n      <td>0</td>\n      <td>370</td>\n      <td>469</td>\n      <td>0.779499</td>\n    </tr>\n  </tbody>\n</table>\n</div>"
     },
     "metadata": {},
     "execution_count": 313
    }
   ],
   "source": [
    "df = pd.read_csv('results/exp_1/control_val_results.csv')\n",
    "df"
   ]
  },
  {
   "cell_type": "code",
   "execution_count": 314,
   "metadata": {},
   "outputs": [
    {
     "output_type": "execute_result",
     "data": {
      "text/plain": "           date  eps  iter  use_top_k  threshold    tn   fp   fn   tp  \\\n0  1.586548e+09    0     0          0   0.000050   985  214  393  806   \n1  1.586548e+09    0     0          0   0.000100   985  214  440  759   \n2  1.586548e+09    0     0          0   0.000400  1114   85  506  693   \n3  1.586548e+09    0     0          0   0.000691  1199    0  517  682   \n\n        acc  \n0  0.746872  \n1  0.727273  \n2  0.753545  \n3  0.784404  ",
      "text/html": "<div>\n<style scoped>\n    .dataframe tbody tr th:only-of-type {\n        vertical-align: middle;\n    }\n\n    .dataframe tbody tr th {\n        vertical-align: top;\n    }\n\n    .dataframe thead th {\n        text-align: right;\n    }\n</style>\n<table border=\"1\" class=\"dataframe\">\n  <thead>\n    <tr style=\"text-align: right;\">\n      <th></th>\n      <th>date</th>\n      <th>eps</th>\n      <th>iter</th>\n      <th>use_top_k</th>\n      <th>threshold</th>\n      <th>tn</th>\n      <th>fp</th>\n      <th>fn</th>\n      <th>tp</th>\n      <th>acc</th>\n    </tr>\n  </thead>\n  <tbody>\n    <tr>\n      <td>0</td>\n      <td>1.586548e+09</td>\n      <td>0</td>\n      <td>0</td>\n      <td>0</td>\n      <td>0.000050</td>\n      <td>985</td>\n      <td>214</td>\n      <td>393</td>\n      <td>806</td>\n      <td>0.746872</td>\n    </tr>\n    <tr>\n      <td>1</td>\n      <td>1.586548e+09</td>\n      <td>0</td>\n      <td>0</td>\n      <td>0</td>\n      <td>0.000100</td>\n      <td>985</td>\n      <td>214</td>\n      <td>440</td>\n      <td>759</td>\n      <td>0.727273</td>\n    </tr>\n    <tr>\n      <td>2</td>\n      <td>1.586548e+09</td>\n      <td>0</td>\n      <td>0</td>\n      <td>0</td>\n      <td>0.000400</td>\n      <td>1114</td>\n      <td>85</td>\n      <td>506</td>\n      <td>693</td>\n      <td>0.753545</td>\n    </tr>\n    <tr>\n      <td>3</td>\n      <td>1.586548e+09</td>\n      <td>0</td>\n      <td>0</td>\n      <td>0</td>\n      <td>0.000691</td>\n      <td>1199</td>\n      <td>0</td>\n      <td>517</td>\n      <td>682</td>\n      <td>0.784404</td>\n    </tr>\n  </tbody>\n</table>\n</div>"
     },
     "metadata": {},
     "execution_count": 314
    }
   ],
   "source": [
    "df = pd.read_csv('results/exp_1/control_test_results.csv')\n",
    "df"
   ]
  },
  {
   "cell_type": "code",
   "execution_count": 315,
   "metadata": {},
   "outputs": [
    {
     "output_type": "execute_result",
     "data": {
      "text/plain": "            date   eps  iter  use_top_k     threshold   tn   fp   fn   tp  \\\n0   1.586548e+09   100     0          0  9.000000e-06  620  218  769   69   \n1   1.586548e+09   100     0          0  5.000000e-05  743   95  838    0   \n2   1.586548e+09   100     0          0  1.000000e-04  747   91  838    0   \n3   1.586548e+09   100     0          0  2.000000e-04  770   68  838    0   \n4   1.586548e+09   100     0          0  4.000000e-04  838    0  838    0   \n5   1.586548e+09   100     0          0  1.539619e-13  394  444  118  720   \n6   1.586548e+09   100     1          0  9.000000e-06  614  224  776   62   \n7   1.586548e+09   100     1          0  5.000000e-05  730  108  838    0   \n8   1.586548e+09   100     1          0  1.000000e-04  771   67  838    0   \n9   1.586548e+09   100     1          0  2.000000e-04  771   67  838    0   \n10  1.586548e+09   100     1          0  4.000000e-04  838    0  838    0   \n11  1.586548e+09   100     1          0  2.629185e-13  378  460  124  714   \n12  1.586549e+09   500     0          0  9.000000e-06  662  176  447  391   \n13  1.586549e+09   500     0          0  5.000000e-05  761   77  595  243   \n14  1.586549e+09   500     0          0  1.000000e-04  761   77  666  172   \n15  1.586549e+09   500     0          0  2.000000e-04  838    0  731  107   \n16  1.586549e+09   500     0          0  4.000000e-04  838    0  800   38   \n17  1.586549e+09   500     0          0  3.302505e-11  405  433   81  757   \n18  1.586549e+09   500     1          0  9.000000e-06  645  193  432  406   \n19  1.586549e+09   500     1          0  5.000000e-05  763   75  555  283   \n20  1.586549e+09   500     1          0  1.000000e-04  819   19  607  231   \n21  1.586549e+09   500     1          0  2.000000e-04  819   19  666  172   \n22  1.586549e+09   500     1          0  4.000000e-04  838    0  720  118   \n23  1.586549e+09   500     1          0  1.064462e-11  410  428   58  780   \n24  1.586549e+09  1000     0          0  9.000000e-06  579  259  265  573   \n25  1.586549e+09  1000     0          0  5.000000e-05  674  164  350  488   \n26  1.586549e+09  1000     0          0  1.000000e-04  758   80  394  444   \n27  1.586549e+09  1000     0          0  2.000000e-04  758   80  442  396   \n28  1.586549e+09  1000     0          0  4.000000e-04  765   73  490  348   \n29  1.586549e+09  1000     0          0  2.057040e-09  499  339   55  783   \n30  1.586550e+09  1000     1          0  9.000000e-06  663  175  253  585   \n31  1.586550e+09  1000     1          0  5.000000e-05  747   91  353  485   \n32  1.586550e+09  1000     1          0  1.000000e-04  763   75  393  445   \n33  1.586550e+09  1000     1          0  2.000000e-04  763   75  438  400   \n34  1.586550e+09  1000     1          0  4.000000e-04  763   75  480  358   \n35  1.586550e+09  1000     1          0  3.118816e-05  747   91  318  520   \n\n         acc  \n0   0.411098  \n1   0.443317  \n2   0.445704  \n3   0.459427  \n4   0.500000  \n5   0.664678  \n6   0.403341  \n7   0.435561  \n8   0.460024  \n9   0.460024  \n10  0.500000  \n11  0.651551  \n12  0.628282  \n13  0.599045  \n14  0.556683  \n15  0.563842  \n16  0.522673  \n17  0.693317  \n18  0.627088  \n19  0.624105  \n20  0.626492  \n21  0.591289  \n22  0.570406  \n23  0.710024  \n24  0.687351  \n25  0.693317  \n26  0.717184  \n27  0.688544  \n28  0.664081  \n29  0.764916  \n30  0.744630  \n31  0.735084  \n32  0.720764  \n33  0.693914  \n34  0.668854  \n35  0.755967  ",
      "text/html": "<div>\n<style scoped>\n    .dataframe tbody tr th:only-of-type {\n        vertical-align: middle;\n    }\n\n    .dataframe tbody tr th {\n        vertical-align: top;\n    }\n\n    .dataframe thead th {\n        text-align: right;\n    }\n</style>\n<table border=\"1\" class=\"dataframe\">\n  <thead>\n    <tr style=\"text-align: right;\">\n      <th></th>\n      <th>date</th>\n      <th>eps</th>\n      <th>iter</th>\n      <th>use_top_k</th>\n      <th>threshold</th>\n      <th>tn</th>\n      <th>fp</th>\n      <th>fn</th>\n      <th>tp</th>\n      <th>acc</th>\n    </tr>\n  </thead>\n  <tbody>\n    <tr>\n      <td>0</td>\n      <td>1.586548e+09</td>\n      <td>100</td>\n      <td>0</td>\n      <td>0</td>\n      <td>9.000000e-06</td>\n      <td>620</td>\n      <td>218</td>\n      <td>769</td>\n      <td>69</td>\n      <td>0.411098</td>\n    </tr>\n    <tr>\n      <td>1</td>\n      <td>1.586548e+09</td>\n      <td>100</td>\n      <td>0</td>\n      <td>0</td>\n      <td>5.000000e-05</td>\n      <td>743</td>\n      <td>95</td>\n      <td>838</td>\n      <td>0</td>\n      <td>0.443317</td>\n    </tr>\n    <tr>\n      <td>2</td>\n      <td>1.586548e+09</td>\n      <td>100</td>\n      <td>0</td>\n      <td>0</td>\n      <td>1.000000e-04</td>\n      <td>747</td>\n      <td>91</td>\n      <td>838</td>\n      <td>0</td>\n      <td>0.445704</td>\n    </tr>\n    <tr>\n      <td>3</td>\n      <td>1.586548e+09</td>\n      <td>100</td>\n      <td>0</td>\n      <td>0</td>\n      <td>2.000000e-04</td>\n      <td>770</td>\n      <td>68</td>\n      <td>838</td>\n      <td>0</td>\n      <td>0.459427</td>\n    </tr>\n    <tr>\n      <td>4</td>\n      <td>1.586548e+09</td>\n      <td>100</td>\n      <td>0</td>\n      <td>0</td>\n      <td>4.000000e-04</td>\n      <td>838</td>\n      <td>0</td>\n      <td>838</td>\n      <td>0</td>\n      <td>0.500000</td>\n    </tr>\n    <tr>\n      <td>5</td>\n      <td>1.586548e+09</td>\n      <td>100</td>\n      <td>0</td>\n      <td>0</td>\n      <td>1.539619e-13</td>\n      <td>394</td>\n      <td>444</td>\n      <td>118</td>\n      <td>720</td>\n      <td>0.664678</td>\n    </tr>\n    <tr>\n      <td>6</td>\n      <td>1.586548e+09</td>\n      <td>100</td>\n      <td>1</td>\n      <td>0</td>\n      <td>9.000000e-06</td>\n      <td>614</td>\n      <td>224</td>\n      <td>776</td>\n      <td>62</td>\n      <td>0.403341</td>\n    </tr>\n    <tr>\n      <td>7</td>\n      <td>1.586548e+09</td>\n      <td>100</td>\n      <td>1</td>\n      <td>0</td>\n      <td>5.000000e-05</td>\n      <td>730</td>\n      <td>108</td>\n      <td>838</td>\n      <td>0</td>\n      <td>0.435561</td>\n    </tr>\n    <tr>\n      <td>8</td>\n      <td>1.586548e+09</td>\n      <td>100</td>\n      <td>1</td>\n      <td>0</td>\n      <td>1.000000e-04</td>\n      <td>771</td>\n      <td>67</td>\n      <td>838</td>\n      <td>0</td>\n      <td>0.460024</td>\n    </tr>\n    <tr>\n      <td>9</td>\n      <td>1.586548e+09</td>\n      <td>100</td>\n      <td>1</td>\n      <td>0</td>\n      <td>2.000000e-04</td>\n      <td>771</td>\n      <td>67</td>\n      <td>838</td>\n      <td>0</td>\n      <td>0.460024</td>\n    </tr>\n    <tr>\n      <td>10</td>\n      <td>1.586548e+09</td>\n      <td>100</td>\n      <td>1</td>\n      <td>0</td>\n      <td>4.000000e-04</td>\n      <td>838</td>\n      <td>0</td>\n      <td>838</td>\n      <td>0</td>\n      <td>0.500000</td>\n    </tr>\n    <tr>\n      <td>11</td>\n      <td>1.586548e+09</td>\n      <td>100</td>\n      <td>1</td>\n      <td>0</td>\n      <td>2.629185e-13</td>\n      <td>378</td>\n      <td>460</td>\n      <td>124</td>\n      <td>714</td>\n      <td>0.651551</td>\n    </tr>\n    <tr>\n      <td>12</td>\n      <td>1.586549e+09</td>\n      <td>500</td>\n      <td>0</td>\n      <td>0</td>\n      <td>9.000000e-06</td>\n      <td>662</td>\n      <td>176</td>\n      <td>447</td>\n      <td>391</td>\n      <td>0.628282</td>\n    </tr>\n    <tr>\n      <td>13</td>\n      <td>1.586549e+09</td>\n      <td>500</td>\n      <td>0</td>\n      <td>0</td>\n      <td>5.000000e-05</td>\n      <td>761</td>\n      <td>77</td>\n      <td>595</td>\n      <td>243</td>\n      <td>0.599045</td>\n    </tr>\n    <tr>\n      <td>14</td>\n      <td>1.586549e+09</td>\n      <td>500</td>\n      <td>0</td>\n      <td>0</td>\n      <td>1.000000e-04</td>\n      <td>761</td>\n      <td>77</td>\n      <td>666</td>\n      <td>172</td>\n      <td>0.556683</td>\n    </tr>\n    <tr>\n      <td>15</td>\n      <td>1.586549e+09</td>\n      <td>500</td>\n      <td>0</td>\n      <td>0</td>\n      <td>2.000000e-04</td>\n      <td>838</td>\n      <td>0</td>\n      <td>731</td>\n      <td>107</td>\n      <td>0.563842</td>\n    </tr>\n    <tr>\n      <td>16</td>\n      <td>1.586549e+09</td>\n      <td>500</td>\n      <td>0</td>\n      <td>0</td>\n      <td>4.000000e-04</td>\n      <td>838</td>\n      <td>0</td>\n      <td>800</td>\n      <td>38</td>\n      <td>0.522673</td>\n    </tr>\n    <tr>\n      <td>17</td>\n      <td>1.586549e+09</td>\n      <td>500</td>\n      <td>0</td>\n      <td>0</td>\n      <td>3.302505e-11</td>\n      <td>405</td>\n      <td>433</td>\n      <td>81</td>\n      <td>757</td>\n      <td>0.693317</td>\n    </tr>\n    <tr>\n      <td>18</td>\n      <td>1.586549e+09</td>\n      <td>500</td>\n      <td>1</td>\n      <td>0</td>\n      <td>9.000000e-06</td>\n      <td>645</td>\n      <td>193</td>\n      <td>432</td>\n      <td>406</td>\n      <td>0.627088</td>\n    </tr>\n    <tr>\n      <td>19</td>\n      <td>1.586549e+09</td>\n      <td>500</td>\n      <td>1</td>\n      <td>0</td>\n      <td>5.000000e-05</td>\n      <td>763</td>\n      <td>75</td>\n      <td>555</td>\n      <td>283</td>\n      <td>0.624105</td>\n    </tr>\n    <tr>\n      <td>20</td>\n      <td>1.586549e+09</td>\n      <td>500</td>\n      <td>1</td>\n      <td>0</td>\n      <td>1.000000e-04</td>\n      <td>819</td>\n      <td>19</td>\n      <td>607</td>\n      <td>231</td>\n      <td>0.626492</td>\n    </tr>\n    <tr>\n      <td>21</td>\n      <td>1.586549e+09</td>\n      <td>500</td>\n      <td>1</td>\n      <td>0</td>\n      <td>2.000000e-04</td>\n      <td>819</td>\n      <td>19</td>\n      <td>666</td>\n      <td>172</td>\n      <td>0.591289</td>\n    </tr>\n    <tr>\n      <td>22</td>\n      <td>1.586549e+09</td>\n      <td>500</td>\n      <td>1</td>\n      <td>0</td>\n      <td>4.000000e-04</td>\n      <td>838</td>\n      <td>0</td>\n      <td>720</td>\n      <td>118</td>\n      <td>0.570406</td>\n    </tr>\n    <tr>\n      <td>23</td>\n      <td>1.586549e+09</td>\n      <td>500</td>\n      <td>1</td>\n      <td>0</td>\n      <td>1.064462e-11</td>\n      <td>410</td>\n      <td>428</td>\n      <td>58</td>\n      <td>780</td>\n      <td>0.710024</td>\n    </tr>\n    <tr>\n      <td>24</td>\n      <td>1.586549e+09</td>\n      <td>1000</td>\n      <td>0</td>\n      <td>0</td>\n      <td>9.000000e-06</td>\n      <td>579</td>\n      <td>259</td>\n      <td>265</td>\n      <td>573</td>\n      <td>0.687351</td>\n    </tr>\n    <tr>\n      <td>25</td>\n      <td>1.586549e+09</td>\n      <td>1000</td>\n      <td>0</td>\n      <td>0</td>\n      <td>5.000000e-05</td>\n      <td>674</td>\n      <td>164</td>\n      <td>350</td>\n      <td>488</td>\n      <td>0.693317</td>\n    </tr>\n    <tr>\n      <td>26</td>\n      <td>1.586549e+09</td>\n      <td>1000</td>\n      <td>0</td>\n      <td>0</td>\n      <td>1.000000e-04</td>\n      <td>758</td>\n      <td>80</td>\n      <td>394</td>\n      <td>444</td>\n      <td>0.717184</td>\n    </tr>\n    <tr>\n      <td>27</td>\n      <td>1.586549e+09</td>\n      <td>1000</td>\n      <td>0</td>\n      <td>0</td>\n      <td>2.000000e-04</td>\n      <td>758</td>\n      <td>80</td>\n      <td>442</td>\n      <td>396</td>\n      <td>0.688544</td>\n    </tr>\n    <tr>\n      <td>28</td>\n      <td>1.586549e+09</td>\n      <td>1000</td>\n      <td>0</td>\n      <td>0</td>\n      <td>4.000000e-04</td>\n      <td>765</td>\n      <td>73</td>\n      <td>490</td>\n      <td>348</td>\n      <td>0.664081</td>\n    </tr>\n    <tr>\n      <td>29</td>\n      <td>1.586549e+09</td>\n      <td>1000</td>\n      <td>0</td>\n      <td>0</td>\n      <td>2.057040e-09</td>\n      <td>499</td>\n      <td>339</td>\n      <td>55</td>\n      <td>783</td>\n      <td>0.764916</td>\n    </tr>\n    <tr>\n      <td>30</td>\n      <td>1.586550e+09</td>\n      <td>1000</td>\n      <td>1</td>\n      <td>0</td>\n      <td>9.000000e-06</td>\n      <td>663</td>\n      <td>175</td>\n      <td>253</td>\n      <td>585</td>\n      <td>0.744630</td>\n    </tr>\n    <tr>\n      <td>31</td>\n      <td>1.586550e+09</td>\n      <td>1000</td>\n      <td>1</td>\n      <td>0</td>\n      <td>5.000000e-05</td>\n      <td>747</td>\n      <td>91</td>\n      <td>353</td>\n      <td>485</td>\n      <td>0.735084</td>\n    </tr>\n    <tr>\n      <td>32</td>\n      <td>1.586550e+09</td>\n      <td>1000</td>\n      <td>1</td>\n      <td>0</td>\n      <td>1.000000e-04</td>\n      <td>763</td>\n      <td>75</td>\n      <td>393</td>\n      <td>445</td>\n      <td>0.720764</td>\n    </tr>\n    <tr>\n      <td>33</td>\n      <td>1.586550e+09</td>\n      <td>1000</td>\n      <td>1</td>\n      <td>0</td>\n      <td>2.000000e-04</td>\n      <td>763</td>\n      <td>75</td>\n      <td>438</td>\n      <td>400</td>\n      <td>0.693914</td>\n    </tr>\n    <tr>\n      <td>34</td>\n      <td>1.586550e+09</td>\n      <td>1000</td>\n      <td>1</td>\n      <td>0</td>\n      <td>4.000000e-04</td>\n      <td>763</td>\n      <td>75</td>\n      <td>480</td>\n      <td>358</td>\n      <td>0.668854</td>\n    </tr>\n    <tr>\n      <td>35</td>\n      <td>1.586550e+09</td>\n      <td>1000</td>\n      <td>1</td>\n      <td>0</td>\n      <td>3.118816e-05</td>\n      <td>747</td>\n      <td>91</td>\n      <td>318</td>\n      <td>520</td>\n      <td>0.755967</td>\n    </tr>\n  </tbody>\n</table>\n</div>"
     },
     "metadata": {},
     "execution_count": 315
    }
   ],
   "source": [
    "df = pd.read_csv('results/exp_1/utility_val_results.csv')\n",
    "df"
   ]
  },
  {
   "cell_type": "code",
   "execution_count": 316,
   "metadata": {},
   "outputs": [
    {
     "output_type": "execute_result",
     "data": {
      "text/plain": "            date   eps  iter  use_top_k     threshold    tn   fp    fn    tp  \\\n0   1.586548e+09   100     0          0  9.000000e-06   923  275  1118    80   \n1   1.586548e+09   100     0          0  5.000000e-05  1072  126  1197     1   \n2   1.586548e+09   100     0          0  1.000000e-04  1077  121  1198     0   \n3   1.586548e+09   100     0          0  2.000000e-04  1100   98  1198     0   \n4   1.586548e+09   100     0          0  4.000000e-04  1198    0  1198     0   \n5   1.586548e+09   100     0          0  1.539619e-13   570  628   167  1031   \n6   1.586548e+09   100     1          0  9.000000e-06   884  314  1117    81   \n7   1.586548e+09   100     1          0  5.000000e-05  1061  137  1198     0   \n8   1.586548e+09   100     1          0  1.000000e-04  1107   91  1198     0   \n9   1.586548e+09   100     1          0  2.000000e-04  1108   90  1198     0   \n10  1.586548e+09   100     1          0  4.000000e-04  1198    0  1198     0   \n11  1.586548e+09   100     1          0  2.629185e-13   550  648   168  1030   \n12  1.586549e+09   500     0          0  9.000000e-06   973  225   643   555   \n13  1.586549e+09   500     0          0  5.000000e-05  1116   82   855   343   \n14  1.586549e+09   500     0          0  1.000000e-04  1116   82   955   243   \n15  1.586549e+09   500     0          0  2.000000e-04  1198    0  1049   149   \n16  1.586549e+09   500     0          0  4.000000e-04  1198    0  1141    57   \n17  1.586549e+09   500     0          0  3.302505e-11   595  603    98  1100   \n18  1.586549e+09   500     1          0  9.000000e-06   956  242   586   612   \n19  1.586549e+09   500     1          0  5.000000e-05  1113   85   764   434   \n20  1.586549e+09   500     1          0  1.000000e-04  1180   18   850   348   \n21  1.586549e+09   500     1          0  2.000000e-04  1180   18   945   253   \n22  1.586549e+09   500     1          0  4.000000e-04  1198    0  1021   177   \n23  1.586549e+09   500     1          0  1.064462e-11   588  610    73  1125   \n24  1.586549e+09  1000     0          0  9.000000e-06   845  353   372   826   \n25  1.586549e+09  1000     0          0  5.000000e-05   992  206   511   687   \n26  1.586549e+09  1000     0          0  1.000000e-04  1113   85   566   632   \n27  1.586549e+09  1000     0          0  2.000000e-04  1113   85   638   560   \n28  1.586549e+09  1000     0          0  4.000000e-04  1118   80   700   498   \n29  1.586549e+09  1000     0          0  2.057040e-09   720  478    84  1114   \n30  1.586550e+09  1000     1          0  9.000000e-06   980  218   365   833   \n31  1.586550e+09  1000     1          0  5.000000e-05  1107   91   493   705   \n32  1.586550e+09  1000     1          0  1.000000e-04  1121   77   562   636   \n33  1.586550e+09  1000     1          0  2.000000e-04  1121   77   623   575   \n34  1.586550e+09  1000     1          0  4.000000e-04  1121   77   674   524   \n35  1.586550e+09  1000     1          0  3.118816e-05  1107   91   446   752   \n\n         acc  \n0   0.418614  \n1   0.447830  \n2   0.449499  \n3   0.459098  \n4   0.500000  \n5   0.668197  \n6   0.402755  \n7   0.442821  \n8   0.462020  \n9   0.462437  \n10  0.500000  \n11  0.659432  \n12  0.637730  \n13  0.608932  \n14  0.567195  \n15  0.562187  \n16  0.523790  \n17  0.707429  \n18  0.654424  \n19  0.645659  \n20  0.637730  \n21  0.598080  \n22  0.573873  \n23  0.714942  \n24  0.697412  \n25  0.700751  \n26  0.728297  \n27  0.698247  \n28  0.674457  \n29  0.765442  \n30  0.756678  \n31  0.756260  \n32  0.733306  \n33  0.707846  \n34  0.686561  \n35  0.775876  ",
      "text/html": "<div>\n<style scoped>\n    .dataframe tbody tr th:only-of-type {\n        vertical-align: middle;\n    }\n\n    .dataframe tbody tr th {\n        vertical-align: top;\n    }\n\n    .dataframe thead th {\n        text-align: right;\n    }\n</style>\n<table border=\"1\" class=\"dataframe\">\n  <thead>\n    <tr style=\"text-align: right;\">\n      <th></th>\n      <th>date</th>\n      <th>eps</th>\n      <th>iter</th>\n      <th>use_top_k</th>\n      <th>threshold</th>\n      <th>tn</th>\n      <th>fp</th>\n      <th>fn</th>\n      <th>tp</th>\n      <th>acc</th>\n    </tr>\n  </thead>\n  <tbody>\n    <tr>\n      <td>0</td>\n      <td>1.586548e+09</td>\n      <td>100</td>\n      <td>0</td>\n      <td>0</td>\n      <td>9.000000e-06</td>\n      <td>923</td>\n      <td>275</td>\n      <td>1118</td>\n      <td>80</td>\n      <td>0.418614</td>\n    </tr>\n    <tr>\n      <td>1</td>\n      <td>1.586548e+09</td>\n      <td>100</td>\n      <td>0</td>\n      <td>0</td>\n      <td>5.000000e-05</td>\n      <td>1072</td>\n      <td>126</td>\n      <td>1197</td>\n      <td>1</td>\n      <td>0.447830</td>\n    </tr>\n    <tr>\n      <td>2</td>\n      <td>1.586548e+09</td>\n      <td>100</td>\n      <td>0</td>\n      <td>0</td>\n      <td>1.000000e-04</td>\n      <td>1077</td>\n      <td>121</td>\n      <td>1198</td>\n      <td>0</td>\n      <td>0.449499</td>\n    </tr>\n    <tr>\n      <td>3</td>\n      <td>1.586548e+09</td>\n      <td>100</td>\n      <td>0</td>\n      <td>0</td>\n      <td>2.000000e-04</td>\n      <td>1100</td>\n      <td>98</td>\n      <td>1198</td>\n      <td>0</td>\n      <td>0.459098</td>\n    </tr>\n    <tr>\n      <td>4</td>\n      <td>1.586548e+09</td>\n      <td>100</td>\n      <td>0</td>\n      <td>0</td>\n      <td>4.000000e-04</td>\n      <td>1198</td>\n      <td>0</td>\n      <td>1198</td>\n      <td>0</td>\n      <td>0.500000</td>\n    </tr>\n    <tr>\n      <td>5</td>\n      <td>1.586548e+09</td>\n      <td>100</td>\n      <td>0</td>\n      <td>0</td>\n      <td>1.539619e-13</td>\n      <td>570</td>\n      <td>628</td>\n      <td>167</td>\n      <td>1031</td>\n      <td>0.668197</td>\n    </tr>\n    <tr>\n      <td>6</td>\n      <td>1.586548e+09</td>\n      <td>100</td>\n      <td>1</td>\n      <td>0</td>\n      <td>9.000000e-06</td>\n      <td>884</td>\n      <td>314</td>\n      <td>1117</td>\n      <td>81</td>\n      <td>0.402755</td>\n    </tr>\n    <tr>\n      <td>7</td>\n      <td>1.586548e+09</td>\n      <td>100</td>\n      <td>1</td>\n      <td>0</td>\n      <td>5.000000e-05</td>\n      <td>1061</td>\n      <td>137</td>\n      <td>1198</td>\n      <td>0</td>\n      <td>0.442821</td>\n    </tr>\n    <tr>\n      <td>8</td>\n      <td>1.586548e+09</td>\n      <td>100</td>\n      <td>1</td>\n      <td>0</td>\n      <td>1.000000e-04</td>\n      <td>1107</td>\n      <td>91</td>\n      <td>1198</td>\n      <td>0</td>\n      <td>0.462020</td>\n    </tr>\n    <tr>\n      <td>9</td>\n      <td>1.586548e+09</td>\n      <td>100</td>\n      <td>1</td>\n      <td>0</td>\n      <td>2.000000e-04</td>\n      <td>1108</td>\n      <td>90</td>\n      <td>1198</td>\n      <td>0</td>\n      <td>0.462437</td>\n    </tr>\n    <tr>\n      <td>10</td>\n      <td>1.586548e+09</td>\n      <td>100</td>\n      <td>1</td>\n      <td>0</td>\n      <td>4.000000e-04</td>\n      <td>1198</td>\n      <td>0</td>\n      <td>1198</td>\n      <td>0</td>\n      <td>0.500000</td>\n    </tr>\n    <tr>\n      <td>11</td>\n      <td>1.586548e+09</td>\n      <td>100</td>\n      <td>1</td>\n      <td>0</td>\n      <td>2.629185e-13</td>\n      <td>550</td>\n      <td>648</td>\n      <td>168</td>\n      <td>1030</td>\n      <td>0.659432</td>\n    </tr>\n    <tr>\n      <td>12</td>\n      <td>1.586549e+09</td>\n      <td>500</td>\n      <td>0</td>\n      <td>0</td>\n      <td>9.000000e-06</td>\n      <td>973</td>\n      <td>225</td>\n      <td>643</td>\n      <td>555</td>\n      <td>0.637730</td>\n    </tr>\n    <tr>\n      <td>13</td>\n      <td>1.586549e+09</td>\n      <td>500</td>\n      <td>0</td>\n      <td>0</td>\n      <td>5.000000e-05</td>\n      <td>1116</td>\n      <td>82</td>\n      <td>855</td>\n      <td>343</td>\n      <td>0.608932</td>\n    </tr>\n    <tr>\n      <td>14</td>\n      <td>1.586549e+09</td>\n      <td>500</td>\n      <td>0</td>\n      <td>0</td>\n      <td>1.000000e-04</td>\n      <td>1116</td>\n      <td>82</td>\n      <td>955</td>\n      <td>243</td>\n      <td>0.567195</td>\n    </tr>\n    <tr>\n      <td>15</td>\n      <td>1.586549e+09</td>\n      <td>500</td>\n      <td>0</td>\n      <td>0</td>\n      <td>2.000000e-04</td>\n      <td>1198</td>\n      <td>0</td>\n      <td>1049</td>\n      <td>149</td>\n      <td>0.562187</td>\n    </tr>\n    <tr>\n      <td>16</td>\n      <td>1.586549e+09</td>\n      <td>500</td>\n      <td>0</td>\n      <td>0</td>\n      <td>4.000000e-04</td>\n      <td>1198</td>\n      <td>0</td>\n      <td>1141</td>\n      <td>57</td>\n      <td>0.523790</td>\n    </tr>\n    <tr>\n      <td>17</td>\n      <td>1.586549e+09</td>\n      <td>500</td>\n      <td>0</td>\n      <td>0</td>\n      <td>3.302505e-11</td>\n      <td>595</td>\n      <td>603</td>\n      <td>98</td>\n      <td>1100</td>\n      <td>0.707429</td>\n    </tr>\n    <tr>\n      <td>18</td>\n      <td>1.586549e+09</td>\n      <td>500</td>\n      <td>1</td>\n      <td>0</td>\n      <td>9.000000e-06</td>\n      <td>956</td>\n      <td>242</td>\n      <td>586</td>\n      <td>612</td>\n      <td>0.654424</td>\n    </tr>\n    <tr>\n      <td>19</td>\n      <td>1.586549e+09</td>\n      <td>500</td>\n      <td>1</td>\n      <td>0</td>\n      <td>5.000000e-05</td>\n      <td>1113</td>\n      <td>85</td>\n      <td>764</td>\n      <td>434</td>\n      <td>0.645659</td>\n    </tr>\n    <tr>\n      <td>20</td>\n      <td>1.586549e+09</td>\n      <td>500</td>\n      <td>1</td>\n      <td>0</td>\n      <td>1.000000e-04</td>\n      <td>1180</td>\n      <td>18</td>\n      <td>850</td>\n      <td>348</td>\n      <td>0.637730</td>\n    </tr>\n    <tr>\n      <td>21</td>\n      <td>1.586549e+09</td>\n      <td>500</td>\n      <td>1</td>\n      <td>0</td>\n      <td>2.000000e-04</td>\n      <td>1180</td>\n      <td>18</td>\n      <td>945</td>\n      <td>253</td>\n      <td>0.598080</td>\n    </tr>\n    <tr>\n      <td>22</td>\n      <td>1.586549e+09</td>\n      <td>500</td>\n      <td>1</td>\n      <td>0</td>\n      <td>4.000000e-04</td>\n      <td>1198</td>\n      <td>0</td>\n      <td>1021</td>\n      <td>177</td>\n      <td>0.573873</td>\n    </tr>\n    <tr>\n      <td>23</td>\n      <td>1.586549e+09</td>\n      <td>500</td>\n      <td>1</td>\n      <td>0</td>\n      <td>1.064462e-11</td>\n      <td>588</td>\n      <td>610</td>\n      <td>73</td>\n      <td>1125</td>\n      <td>0.714942</td>\n    </tr>\n    <tr>\n      <td>24</td>\n      <td>1.586549e+09</td>\n      <td>1000</td>\n      <td>0</td>\n      <td>0</td>\n      <td>9.000000e-06</td>\n      <td>845</td>\n      <td>353</td>\n      <td>372</td>\n      <td>826</td>\n      <td>0.697412</td>\n    </tr>\n    <tr>\n      <td>25</td>\n      <td>1.586549e+09</td>\n      <td>1000</td>\n      <td>0</td>\n      <td>0</td>\n      <td>5.000000e-05</td>\n      <td>992</td>\n      <td>206</td>\n      <td>511</td>\n      <td>687</td>\n      <td>0.700751</td>\n    </tr>\n    <tr>\n      <td>26</td>\n      <td>1.586549e+09</td>\n      <td>1000</td>\n      <td>0</td>\n      <td>0</td>\n      <td>1.000000e-04</td>\n      <td>1113</td>\n      <td>85</td>\n      <td>566</td>\n      <td>632</td>\n      <td>0.728297</td>\n    </tr>\n    <tr>\n      <td>27</td>\n      <td>1.586549e+09</td>\n      <td>1000</td>\n      <td>0</td>\n      <td>0</td>\n      <td>2.000000e-04</td>\n      <td>1113</td>\n      <td>85</td>\n      <td>638</td>\n      <td>560</td>\n      <td>0.698247</td>\n    </tr>\n    <tr>\n      <td>28</td>\n      <td>1.586549e+09</td>\n      <td>1000</td>\n      <td>0</td>\n      <td>0</td>\n      <td>4.000000e-04</td>\n      <td>1118</td>\n      <td>80</td>\n      <td>700</td>\n      <td>498</td>\n      <td>0.674457</td>\n    </tr>\n    <tr>\n      <td>29</td>\n      <td>1.586549e+09</td>\n      <td>1000</td>\n      <td>0</td>\n      <td>0</td>\n      <td>2.057040e-09</td>\n      <td>720</td>\n      <td>478</td>\n      <td>84</td>\n      <td>1114</td>\n      <td>0.765442</td>\n    </tr>\n    <tr>\n      <td>30</td>\n      <td>1.586550e+09</td>\n      <td>1000</td>\n      <td>1</td>\n      <td>0</td>\n      <td>9.000000e-06</td>\n      <td>980</td>\n      <td>218</td>\n      <td>365</td>\n      <td>833</td>\n      <td>0.756678</td>\n    </tr>\n    <tr>\n      <td>31</td>\n      <td>1.586550e+09</td>\n      <td>1000</td>\n      <td>1</td>\n      <td>0</td>\n      <td>5.000000e-05</td>\n      <td>1107</td>\n      <td>91</td>\n      <td>493</td>\n      <td>705</td>\n      <td>0.756260</td>\n    </tr>\n    <tr>\n      <td>32</td>\n      <td>1.586550e+09</td>\n      <td>1000</td>\n      <td>1</td>\n      <td>0</td>\n      <td>1.000000e-04</td>\n      <td>1121</td>\n      <td>77</td>\n      <td>562</td>\n      <td>636</td>\n      <td>0.733306</td>\n    </tr>\n    <tr>\n      <td>33</td>\n      <td>1.586550e+09</td>\n      <td>1000</td>\n      <td>1</td>\n      <td>0</td>\n      <td>2.000000e-04</td>\n      <td>1121</td>\n      <td>77</td>\n      <td>623</td>\n      <td>575</td>\n      <td>0.707846</td>\n    </tr>\n    <tr>\n      <td>34</td>\n      <td>1.586550e+09</td>\n      <td>1000</td>\n      <td>1</td>\n      <td>0</td>\n      <td>4.000000e-04</td>\n      <td>1121</td>\n      <td>77</td>\n      <td>674</td>\n      <td>524</td>\n      <td>0.686561</td>\n    </tr>\n    <tr>\n      <td>35</td>\n      <td>1.586550e+09</td>\n      <td>1000</td>\n      <td>1</td>\n      <td>0</td>\n      <td>3.118816e-05</td>\n      <td>1107</td>\n      <td>91</td>\n      <td>446</td>\n      <td>752</td>\n      <td>0.775876</td>\n    </tr>\n  </tbody>\n</table>\n</div>"
     },
     "metadata": {},
     "execution_count": 316
    }
   ],
   "source": [
    "df = pd.read_csv('results/exp_1/utility_test_results.csv')\n",
    "df"
   ]
  },
  {
   "cell_type": "code",
   "execution_count": 317,
   "metadata": {},
   "outputs": [
    {
     "output_type": "execute_result",
     "data": {
      "text/plain": "'ad asd'"
     },
     "metadata": {},
     "execution_count": 317
    }
   ],
   "source": [
    "\"ad {iter}\".format(iter=\"asd\", second=\"\", delimiter=\"[\")"
   ]
  },
  {
   "cell_type": "code",
   "execution_count": 3,
   "metadata": {},
   "outputs": [],
   "source": [
    "dictio = { \"jey\": \"value\", 'train': {\n",
    "                    'normal': {\n",
    "                        'fullpath': '{exp_name}/normal_train.txt',\n",
    "                        'to_read': -1\n",
    "                    }\n",
    "                }   }"
   ]
  },
  {
   "cell_type": "code",
   "execution_count": 4,
   "metadata": {},
   "outputs": [
    {
     "output_type": "stream",
     "name": "stdout",
     "text": "{exp_name}/normal_train.txt\n"
    }
   ],
   "source": [
    "for i in dictio['train']:\n",
    "    print(dictio['train']['normal']['fullpath'])"
   ]
  },
  {
   "cell_type": "code",
   "execution_count": 5,
   "metadata": {},
   "outputs": [],
   "source": [
    "v1, v2 = dictio.values()"
   ]
  },
  {
   "cell_type": "code",
   "execution_count": 6,
   "metadata": {},
   "outputs": [
    {
     "output_type": "execute_result",
     "data": {
      "text/plain": "('value',\n {'normal': {'fullpath': '{exp_name}/normal_train.txt', 'to_read': -1}})"
     },
     "metadata": {},
     "execution_count": 6
    }
   ],
   "source": [
    "v1, v2"
   ]
  },
  {
   "cell_type": "code",
   "execution_count": 35,
   "metadata": {},
   "outputs": [],
   "source": [
    "dic = { 'a': '{first}', 'b': [('test', '{first} {{second}}')], 'c': { 'd': '{first}{{second}}'}}"
   ]
  },
  {
   "cell_type": "code",
   "execution_count": 29,
   "metadata": {},
   "outputs": [
    {
     "output_type": "execute_result",
     "data": {
      "text/plain": "\"dict_values(['{first}', [('test', '{first} {{second}}')], {'d': '{first}{{second}}'}])\""
     },
     "metadata": {},
     "execution_count": 29
    }
   ],
   "source": [
    "a = str(dic.values())\n",
    "a"
   ]
  },
  {
   "cell_type": "code",
   "execution_count": 62,
   "metadata": {},
   "outputs": [
    {
     "output_type": "stream",
     "name": "stdout",
     "text": "{'a': '{first}', 'b': [('test', '{first} {{second}}')], 'c': {'d': '{first}{{second}}'}}\n"
    }
   ],
   "source": [
    "test(**dic)"
   ]
  },
  {
   "cell_type": "code",
   "execution_count": 61,
   "metadata": {},
   "outputs": [],
   "source": [
    "def test(**kwargs):\n",
    "    print(kwargs)"
   ]
  },
  {
   "cell_type": "code",
   "execution_count": null,
   "metadata": {},
   "outputs": [],
   "source": []
  },
  {
   "cell_type": "code",
   "execution_count": 91,
   "metadata": {},
   "outputs": [],
   "source": [
    "def test(param1):\n",
    "    print(param1)"
   ]
  },
  {
   "cell_type": "code",
   "execution_count": 92,
   "metadata": {},
   "outputs": [],
   "source": [
    "def test2(arg1, arg2):\n",
    "    test(*arg2)"
   ]
  },
  {
   "cell_type": "code",
   "execution_count": 94,
   "metadata": {},
   "outputs": [
    {
     "output_type": "stream",
     "name": "stdout",
     "text": "b\n"
    }
   ],
   "source": [
    "test2('a', 'b')"
   ]
  },
  {
   "cell_type": "code",
   "execution_count": 80,
   "metadata": {},
   "outputs": [],
   "source": [
    "def test3():\n",
    "    print('hello')"
   ]
  },
  {
   "cell_type": "code",
   "execution_count": 121,
   "metadata": {},
   "outputs": [],
   "source": [
    "a = '{exp_name}{iter}{{param3}}'\n",
    "b = '{exp_name}{iter}'\n",
    "c = '{exp_name}'"
   ]
  },
  {
   "cell_type": "code",
   "execution_count": 123,
   "metadata": {},
   "outputs": [
    {
     "output_type": "execute_result",
     "data": {
      "text/plain": "'hello2{param3}'"
     },
     "metadata": {},
     "execution_count": 123
    }
   ],
   "source": [
    "a.format(exp_name = 'hello', iter = 2)"
   ]
  },
  {
   "cell_type": "code",
   "execution_count": 124,
   "metadata": {},
   "outputs": [
    {
     "output_type": "execute_result",
     "data": {
      "text/plain": "'hello2'"
     },
     "metadata": {},
     "execution_count": 124
    }
   ],
   "source": [
    "b.format(exp_name = 'hello', iter = 2)\n",
    ""
   ]
  },
  {
   "cell_type": "code",
   "execution_count": 125,
   "metadata": {},
   "outputs": [
    {
     "output_type": "execute_result",
     "data": {
      "text/plain": "'hello'"
     },
     "metadata": {},
     "execution_count": 125
    }
   ],
   "source": [
    "c.format(exp_name = 'hello', iter = 2)\n",
    ""
   ]
  },
  {
   "cell_type": "code",
   "execution_count": 12,
   "metadata": {},
   "outputs": [],
   "source": [
    "import numpy as np \n",
    ""
   ]
  },
  {
   "cell_type": "code",
   "execution_count": 140,
   "metadata": {},
   "outputs": [],
   "source": [
    "if len(np.array([[[]]])) == 0:\n",
    "    print('hello')"
   ]
  },
  {
   "cell_type": "code",
   "execution_count": 3,
   "metadata": {},
   "outputs": [],
   "source": [
    "import random"
   ]
  },
  {
   "cell_type": "code",
   "execution_count": 144,
   "metadata": {
    "tags": [
     "outputPrepend"
    ]
   },
   "outputs": [
    {
     "output_type": "execute_result",
     "data": {
      "text/plain": "array([22,  5,  5])"
     },
     "metadata": {},
     "execution_count": 144
    }
   ],
   "source": [
    "random.seed(2)\n",
    "with open('data/deeplog/all_abnormal.txt') as f:\n",
    "    to_read = -1\n",
    "    if to_read == -1:\n",
    "        sample = list(f)\n",
    "        random.shuffle(sample)\n",
    "    else:\n",
    "        sample = random.sample(list(f), to_read)  \n",
    "    splits = [np.array(s.split(), dtype=int) for s in sample]\n",
    "splits[0]"
   ]
  },
  {
   "cell_type": "code",
   "execution_count": 97,
   "metadata": {},
   "outputs": [
    {
     "output_type": "execute_result",
     "data": {
      "text/plain": "array([array([ 4, 21,  4]), array([21,  4])], dtype=object)"
     },
     "metadata": {},
     "execution_count": 97
    }
   ],
   "source": [
    "a = np.array(splits) - 1\n",
    "a"
   ]
  },
  {
   "cell_type": "code",
   "execution_count": 104,
   "metadata": {},
   "outputs": [
    {
     "output_type": "execute_result",
     "data": {
      "text/plain": "array([array([ 4, 21,  4,  1]), array([21,  4,  1])], dtype=object)"
     },
     "metadata": {},
     "execution_count": 104
    }
   ],
   "source": [
    "np.array([np.append(x, 1) for x in a]) "
   ]
  },
  {
   "cell_type": "code",
   "execution_count": 103,
   "metadata": {},
   "outputs": [
    {
     "output_type": "error",
     "ename": "ValueError",
     "evalue": "all the input arrays must have same number of dimensions",
     "traceback": [
      "\u001b[1;31m---------------------------------------------------------------------------\u001b[0m",
      "\u001b[1;31mValueError\u001b[0m                                Traceback (most recent call last)",
      "\u001b[1;32m<ipython-input-103-885be0a69f64>\u001b[0m in \u001b[0;36m<module>\u001b[1;34m\u001b[0m\n\u001b[1;32m----> 1\u001b[1;33m \u001b[0mnp\u001b[0m\u001b[1;33m.\u001b[0m\u001b[0mappend\u001b[0m\u001b[1;33m(\u001b[0m\u001b[0ma\u001b[0m\u001b[1;33m,\u001b[0m \u001b[1;36m1\u001b[0m\u001b[1;33m,\u001b[0m \u001b[0maxis\u001b[0m\u001b[1;33m=\u001b[0m\u001b[1;33m-\u001b[0m\u001b[1;36m1\u001b[0m\u001b[1;33m)\u001b[0m\u001b[1;33m\u001b[0m\u001b[1;33m\u001b[0m\u001b[0m\n\u001b[0m",
      "\u001b[1;32m~\\Anaconda3\\envs\\keras\\lib\\site-packages\\numpy\\lib\\function_base.py\u001b[0m in \u001b[0;36mappend\u001b[1;34m(arr, values, axis)\u001b[0m\n\u001b[0;32m   4692\u001b[0m         \u001b[0mvalues\u001b[0m \u001b[1;33m=\u001b[0m \u001b[0mravel\u001b[0m\u001b[1;33m(\u001b[0m\u001b[0mvalues\u001b[0m\u001b[1;33m)\u001b[0m\u001b[1;33m\u001b[0m\u001b[1;33m\u001b[0m\u001b[0m\n\u001b[0;32m   4693\u001b[0m         \u001b[0maxis\u001b[0m \u001b[1;33m=\u001b[0m \u001b[0marr\u001b[0m\u001b[1;33m.\u001b[0m\u001b[0mndim\u001b[0m\u001b[1;33m-\u001b[0m\u001b[1;36m1\u001b[0m\u001b[1;33m\u001b[0m\u001b[1;33m\u001b[0m\u001b[0m\n\u001b[1;32m-> 4694\u001b[1;33m     \u001b[1;32mreturn\u001b[0m \u001b[0mconcatenate\u001b[0m\u001b[1;33m(\u001b[0m\u001b[1;33m(\u001b[0m\u001b[0marr\u001b[0m\u001b[1;33m,\u001b[0m \u001b[0mvalues\u001b[0m\u001b[1;33m)\u001b[0m\u001b[1;33m,\u001b[0m \u001b[0maxis\u001b[0m\u001b[1;33m=\u001b[0m\u001b[0maxis\u001b[0m\u001b[1;33m)\u001b[0m\u001b[1;33m\u001b[0m\u001b[1;33m\u001b[0m\u001b[0m\n\u001b[0m\u001b[0;32m   4695\u001b[0m \u001b[1;33m\u001b[0m\u001b[0m\n\u001b[0;32m   4696\u001b[0m \u001b[1;33m\u001b[0m\u001b[0m\n",
      "\u001b[1;31mValueError\u001b[0m: all the input arrays must have same number of dimensions"
     ]
    }
   ],
   "source": []
  },
  {
   "cell_type": "code",
   "execution_count": null,
   "metadata": {},
   "outputs": [],
   "source": []
  },
  {
   "cell_type": "code",
   "execution_count": 31,
   "metadata": {},
   "outputs": [],
   "source": [
    "from sklearn.model_selection import train_test_split"
   ]
  },
  {
   "cell_type": "code",
   "execution_count": 32,
   "metadata": {},
   "outputs": [
    {
     "output_type": "execute_result",
     "data": {
      "text/plain": "11786"
     },
     "metadata": {},
     "execution_count": 32
    }
   ],
   "source": [
    "train, test = train_test_split(splits, test_size=0.3)\n",
    "len(train)"
   ]
  },
  {
   "cell_type": "code",
   "execution_count": 200,
   "metadata": {},
   "outputs": [],
   "source": [
    "from sklearn import metrics\n",
    "\n",
    "Y_test = [1, 1, 1, 0 ,0, 0]\n",
    "p = [1, 1, 0.2, 0.2, 0.3, 0.5]\n",
    "fpr, tpr, thresholds = metrics.roc_curve(Y_test,p)\n",
    "optimal_idx = np.argmax(tpr - fpr)\n",
    "optimal_threshold = thresholds[optimal_idx]\n",
    "res = p >= optimal_threshold\n",
    "\n",
    ""
   ]
  },
  {
   "cell_type": "code",
   "execution_count": 208,
   "metadata": {},
   "outputs": [],
   "source": [
    "from sklearn.metrics import classification_report\n",
    ""
   ]
  },
  {
   "cell_type": "code",
   "execution_count": 205,
   "metadata": {},
   "outputs": [
    {
     "output_type": "stream",
     "name": "stdout",
     "text": "precision    recall  f1-score   support\n\n           0       0.75      1.00      0.86         3\n           1       1.00      0.67      0.80         3\n\n    accuracy                           0.83         6\n   macro avg       0.88      0.83      0.83         6\nweighted avg       0.88      0.83      0.83         6\n\n"
    }
   ],
   "source": [
    "print(classification_report(Y_test, res))"
   ]
  },
  {
   "cell_type": "code",
   "execution_count": 202,
   "metadata": {},
   "outputs": [
    {
     "output_type": "execute_result",
     "data": {
      "text/plain": "{'0': {'precision': 0.75,\n  'recall': 1.0,\n  'f1-score': 0.8571428571428571,\n  'support': 3},\n '1': {'precision': 1.0,\n  'recall': 0.6666666666666666,\n  'f1-score': 0.8,\n  'support': 3},\n 'accuracy': 0.8333333333333334,\n 'macro avg': {'precision': 0.875,\n  'recall': 0.8333333333333333,\n  'f1-score': 0.8285714285714285,\n  'support': 6},\n 'weighted avg': {'precision': 0.875,\n  'recall': 0.8333333333333334,\n  'f1-score': 0.8285714285714286,\n  'support': 6}}"
     },
     "metadata": {},
     "execution_count": 202
    }
   ],
   "source": [
    "a = classification_report(Y_test, res, output_dict=True)\n",
    "a"
   ]
  },
  {
   "cell_type": "code",
   "execution_count": 171,
   "metadata": {},
   "outputs": [],
   "source": [
    "import pandas as pd\n",
    "import csv"
   ]
  },
  {
   "cell_type": "code",
   "execution_count": 173,
   "metadata": {},
   "outputs": [],
   "source": [
    "with open('test.csv', 'a+', newline='') as csvfile:\n",
    "    writer = csv.writer(csvfile)\n",
    "    values = [1,2,3,4]\n",
    "    writer.writerow(['hola', *values])\n",
    ""
   ]
  },
  {
   "cell_type": "code",
   "execution_count": 163,
   "metadata": {},
   "outputs": [
    {
     "output_type": "error",
     "ename": "SyntaxError",
     "evalue": "invalid character in identifier (<ipython-input-163-08076e622558>, line 1)",
     "traceback": [
      "\u001b[1;36m  File \u001b[1;32m\"<ipython-input-163-08076e622558>\"\u001b[1;36m, line \u001b[1;32m1\u001b[0m\n\u001b[1;33m    df.columns = [‘A’, ‘B’, ‘C’, ‘D’]\u001b[0m\n\u001b[1;37m                    ^\u001b[0m\n\u001b[1;31mSyntaxError\u001b[0m\u001b[1;31m:\u001b[0m invalid character in identifier\n"
     ]
    }
   ],
   "source": [
    "df.columns = [‘A’, ‘B’, ‘C’, ‘D’]"
   ]
  },
  {
   "cell_type": "code",
   "execution_count": 175,
   "metadata": {},
   "outputs": [
    {
     "output_type": "execute_result",
     "data": {
      "text/plain": "'b'"
     },
     "metadata": {},
     "execution_count": 175
    }
   ],
   "source": [
    "a = '{test}'\n",
    "s = a.format(test='b')\n",
    "s"
   ]
  },
  {
   "cell_type": "code",
   "execution_count": 177,
   "metadata": {},
   "outputs": [
    {
     "output_type": "execute_result",
     "data": {
      "text/plain": "['date', 'b', 'a']"
     },
     "metadata": {},
     "execution_count": 177
    }
   ],
   "source": [
    "header = ['b', 'a']\n",
    "['date', *header]"
   ]
  },
  {
   "cell_type": "code",
   "execution_count": 216,
   "metadata": {},
   "outputs": [],
   "source": [
    "d =  {\n",
    "    'normal': {\n",
    "        'fullpath': '{exp_name}/normal_val.txt',\n",
    "        'to_read': -1,\n",
    "        'class': 1\n",
    "    },\n",
    "    'abnormal': {\n",
    "        'fullpath': '{exp_name}/abnormal_val.txt',\n",
    "        'to_read': -1,\n",
    "        'class': 0\n",
    "    }\n",
    "}"
   ]
  },
  {
   "cell_type": "code",
   "execution_count": 219,
   "metadata": {},
   "outputs": [
    {
     "output_type": "stream",
     "name": "stdout",
     "text": "normal {'fullpath': '{exp_name}/normal_val.txt', 'to_read': -1, 'class': 1}\nabnormal {'fullpath': '{exp_name}/abnormal_val.txt', 'to_read': -1, 'class': 0}\n"
    }
   ],
   "source": [
    "for a, b in d.items():\n",
    "    print(a,b)"
   ]
  },
  {
   "cell_type": "code",
   "execution_count": null,
   "metadata": {},
   "outputs": [],
   "source": []
  },
  {
   "cell_type": "code",
   "execution_count": 231,
   "metadata": {},
   "outputs": [
    {
     "output_type": "execute_result",
     "data": {
      "text/plain": "16838"
     },
     "metadata": {},
     "execution_count": 231
    }
   ],
   "source": [
    "with open(str('data/deeplog/all_abnormal.txt'), 'r') as f:\n",
    "    to_read= 1666666\n",
    "    sample = list(f)[0: to_read]  \n",
    "splits = [np.array(s.split(), dtype=int) for s in sample]    \n",
    "len(splits)"
   ]
  },
  {
   "cell_type": "code",
   "execution_count": 233,
   "metadata": {},
   "outputs": [
    {
     "output_type": "error",
     "ename": "AttributeError",
     "evalue": "'DataFrame' object has no attribute 'read_csv'",
     "traceback": [
      "\u001b[1;31m---------------------------------------------------------------------------\u001b[0m",
      "\u001b[1;31mAttributeError\u001b[0m                            Traceback (most recent call last)",
      "\u001b[1;32m<ipython-input-233-68ccb5af194a>\u001b[0m in \u001b[0;36m<module>\u001b[1;34m\u001b[0m\n\u001b[1;32m----> 1\u001b[1;33m \u001b[0mdf\u001b[0m\u001b[1;33m.\u001b[0m\u001b[0mread_csv\u001b[0m\u001b[1;33m(\u001b[0m\u001b[1;34m'results/deeplog/control_val_results'\u001b[0m\u001b[1;33m)\u001b[0m\u001b[1;33m\u001b[0m\u001b[1;33m\u001b[0m\u001b[0m\n\u001b[0m",
      "\u001b[1;32m~\\Anaconda3\\envs\\keras\\lib\\site-packages\\pandas\\core\\generic.py\u001b[0m in \u001b[0;36m__getattr__\u001b[1;34m(self, name)\u001b[0m\n\u001b[0;32m   5177\u001b[0m             \u001b[1;32mif\u001b[0m \u001b[0mself\u001b[0m\u001b[1;33m.\u001b[0m\u001b[0m_info_axis\u001b[0m\u001b[1;33m.\u001b[0m\u001b[0m_can_hold_identifiers_and_holds_name\u001b[0m\u001b[1;33m(\u001b[0m\u001b[0mname\u001b[0m\u001b[1;33m)\u001b[0m\u001b[1;33m:\u001b[0m\u001b[1;33m\u001b[0m\u001b[1;33m\u001b[0m\u001b[0m\n\u001b[0;32m   5178\u001b[0m                 \u001b[1;32mreturn\u001b[0m \u001b[0mself\u001b[0m\u001b[1;33m[\u001b[0m\u001b[0mname\u001b[0m\u001b[1;33m]\u001b[0m\u001b[1;33m\u001b[0m\u001b[1;33m\u001b[0m\u001b[0m\n\u001b[1;32m-> 5179\u001b[1;33m             \u001b[1;32mreturn\u001b[0m \u001b[0mobject\u001b[0m\u001b[1;33m.\u001b[0m\u001b[0m__getattribute__\u001b[0m\u001b[1;33m(\u001b[0m\u001b[0mself\u001b[0m\u001b[1;33m,\u001b[0m \u001b[0mname\u001b[0m\u001b[1;33m)\u001b[0m\u001b[1;33m\u001b[0m\u001b[1;33m\u001b[0m\u001b[0m\n\u001b[0m\u001b[0;32m   5180\u001b[0m \u001b[1;33m\u001b[0m\u001b[0m\n\u001b[0;32m   5181\u001b[0m     \u001b[1;32mdef\u001b[0m \u001b[0m__setattr__\u001b[0m\u001b[1;33m(\u001b[0m\u001b[0mself\u001b[0m\u001b[1;33m,\u001b[0m \u001b[0mname\u001b[0m\u001b[1;33m,\u001b[0m \u001b[0mvalue\u001b[0m\u001b[1;33m)\u001b[0m\u001b[1;33m:\u001b[0m\u001b[1;33m\u001b[0m\u001b[1;33m\u001b[0m\u001b[0m\n",
      "\u001b[1;31mAttributeError\u001b[0m: 'DataFrame' object has no attribute 'read_csv'"
     ]
    }
   ],
   "source": [
    "df.read_csv('results/deeplog/control_val_results')"
   ]
  },
  {
   "cell_type": "code",
   "execution_count": 318,
   "metadata": {},
   "outputs": [
    {
     "output_type": "stream",
     "name": "stderr",
     "text": "Using TensorFlow backend.\n"
    }
   ],
   "source": [
    "import data_utils"
   ]
  },
  {
   "cell_type": "code",
   "execution_count": 326,
   "metadata": {},
   "outputs": [],
   "source": [
    "a = data_utils.load_file('data/deeplog/normal.txt', _dtype=int)"
   ]
  },
  {
   "cell_type": "code",
   "execution_count": 328,
   "metadata": {},
   "outputs": [],
   "source": [
    "lens = [len(x) for x in a]"
   ]
  },
  {
   "cell_type": "code",
   "execution_count": 329,
   "metadata": {},
   "outputs": [
    {
     "output_type": "execute_result",
     "data": {
      "text/plain": "19.502814587787128"
     },
     "metadata": {},
     "execution_count": 329
    }
   ],
   "source": [
    "np.mean(np.array(lens))"
   ]
  },
  {
   "cell_type": "code",
   "execution_count": null,
   "metadata": {},
   "outputs": [],
   "source": []
  }
 ],
 "metadata": {
  "kernelspec": {
   "display_name": "Python 3.7.3 64-bit ('keras': conda)",
   "language": "python",
   "name": "python37364bitkerascondaa4014ad699b9423aac6666553c6a2934"
  },
  "language_info": {
   "codemirror_mode": {
    "name": "ipython",
    "version": 3
   },
   "file_extension": ".py",
   "mimetype": "text/x-python",
   "name": "python",
   "nbconvert_exporter": "python",
   "pygments_lexer": "ipython3",
   "version": "3.7.3-final"
  }
 },
 "nbformat": 4,
 "nbformat_minor": 2
}