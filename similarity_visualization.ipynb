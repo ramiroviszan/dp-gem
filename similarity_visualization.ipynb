{
 "cells": [
  {
   "cell_type": "code",
   "execution_count": 2,
   "metadata": {},
   "outputs": [],
   "source": [
    "import pandas as pd\n",
    "import numpy as np\n",
    "import matplotlib.pyplot as plt\n",
    "from itertools import cycle\n",
    "from common.data_similarity_by_len import DataSimilarity\n",
    "cycol = cycle('bgrcmk')"
   ]
  },
  {
   "cell_type": "code",
   "execution_count": 3,
   "metadata": {},
   "outputs": [],
   "source": [
    "params =  {\n",
    "    'metrics': ['hamming', 'hamming_wise', 'cosine'],\n",
    "    'datasets_params': {\n",
    "        'normal': {\n",
    "            'orig_fullpath': 'results/{exp_name}/normal_test.txt',\n",
    "            'privatized_fullpath': 'results/{exp_name}/fake_normal_test_{eps}_{iteration}.txt',\n",
    "            'to_read': 0,\n",
    "            'dtype': int\n",
    "        },\n",
    "        'abnormal': {\n",
    "            'orig_fullpath': 'results/{exp_name}/abnormal_test.txt',\n",
    "            'privatized_fullpath': 'results/{exp_name}/fake_abnormal_test_{eps}_{iteration}.txt',\n",
    "            'to_read': 0,\n",
    "            'dtype': int\n",
    "        }\n",
    "    },\n",
    "    'results_fullpath': 'utility_similarity_test_results_by_len.csv'\n",
    "}"
   ]
  },
  {
   "cell_type": "code",
   "execution_count": 6,
   "metadata": {},
   "outputs": [],
   "source": [
    "trials = [   {'eps': 0.5},\n",
    "            {'eps': 1},\n",
    "            {'eps': 10},\n",
    "            {'eps': 20},\n",
    "            {'eps': 50},\n",
    "            {'eps': 100}]"
   ]
  },
  {
   "cell_type": "code",
   "execution_count": 7,
   "metadata": {
    "tags": []
   },
   "outputs": [
    {
     "output_type": "stream",
     "name": "stdout",
     "text": "{'hamming': [0.5, 0, 'hamming'], 'hamming_wise': [0.5, 0, 'hamming_wise'], 'cosine': [0.5, 0, 'cosine']}\n"
    }
   ],
   "source": [
    "for t in trials:\n",
    "    exp = ('exp_5_1', t, 0)\n",
    "    d_utils = DataSimilarity(exp, *params.values())\n",
    "    d_utils.run_test()\n",
    "    break"
   ]
  },
  {
   "cell_type": "code",
   "execution_count": null,
   "metadata": {},
   "outputs": [],
   "source": []
  }
 ],
 "metadata": {
  "kernelspec": {
   "display_name": "Python 3.7.3 64-bit ('keras2': conda)",
   "language": "python",
   "name": "python37364bitkeras2conda91e1bf1353464f539cca082d2539e3bc"
  },
  "language_info": {
   "codemirror_mode": {
    "name": "ipython",
    "version": 3
   },
   "file_extension": ".py",
   "mimetype": "text/x-python",
   "name": "python",
   "nbconvert_exporter": "python",
   "pygments_lexer": "ipython3",
   "version": "3.7.3-final"
  }
 },
 "nbformat": 4,
 "nbformat_minor": 2
}