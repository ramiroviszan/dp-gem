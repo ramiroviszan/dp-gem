{
 "cells": [
  {
   "cell_type": "code",
   "execution_count": 1,
   "metadata": {},
   "outputs": [
    {
     "output_type": "stream",
     "name": "stderr",
     "text": "Using TensorFlow backend.\n"
    }
   ],
   "source": [
    "import pandas as pd\n",
    "import matplotlib.pyplot as plt\n",
    "from keras.preprocessing.sequence import pad_sequences\n",
    "import numpy as np\n",
    "import random\n",
    "import common.data_utils as data_utils\n",
    "from itertools import chain"
   ]
  },
  {
   "cell_type": "code",
   "execution_count": 5,
   "metadata": {},
   "outputs": [
    {
     "output_type": "execute_result",
     "data": {
      "text/plain": "25"
     },
     "metadata": {},
     "execution_count": 5
    }
   ],
   "source": [
    "data = data_utils.load_file('data/deeplog/normal_train.txt', to_read=2000, split_token='')[20:22]\n",
    "max_len, _ = data_utils.dataset_longest_seq(data)\n",
    "max_len"
   ]
  },
  {
   "cell_type": "code",
   "execution_count": 3,
   "metadata": {},
   "outputs": [
    {
     "output_type": "execute_result",
     "data": {
      "text/plain": "[array(['5', '5', '5', '22', '11', '9', '11', '9', '26', '26', '11', '9',\n        '26', '23', '23', '23', '21', '21', '21'], dtype='<U2'),\n array(['5', '5', '5', '22', '11', '9', '11', '9', '11', '9', '26', '26',\n        '26', '3', '3', '4', '3', '3', '4', '23', '23', '23', '21', '21',\n        '21'], dtype='<U2')]"
     },
     "metadata": {},
     "execution_count": 3
    }
   ],
   "source": [
    "data"
   ]
  },
  {
   "cell_type": "code",
   "execution_count": 257,
   "metadata": {},
   "outputs": [],
   "source": [
    "def get_windows_from_dataset(data, window_size, padding):\n",
    "    sequences = get_dataset_prefixes(data)\n",
    "    max_len, _ = data_utils.dataset_longest_seq(data)\n",
    "    return data_utils.pad_dataset(sequences, window_size, padding)\n",
    "     \n",
    "def get_seq_prefixes(seq):\n",
    "    return [seq[:i+1] for i in range(0, len(seq))]\n",
    "\n",
    "def get_dataset_prefixes(sequences):\n",
    "    return list(chain.from_iterable([get_seq_prefixes(seq) for seq in sequences]))\n",
    "\n",
    "def shift_windows(data):\n",
    "    return data[:len(data)-1], data[1:len(data)]   "
   ]
  },
  {
   "cell_type": "code",
   "execution_count": 271,
   "metadata": {},
   "outputs": [
    {
     "output_type": "display_data",
     "data": {
      "text/plain": "[1, 2, 3, 4, 5]"
     },
     "metadata": {}
    },
    {
     "output_type": "display_data",
     "data": {
      "text/plain": "[[1], [1, 2], [1, 2, 3], [1, 2, 3, 4], [1, 2, 3, 4, 5]]"
     },
     "metadata": {}
    }
   ],
   "source": [
    "data  = [1, 2, 3, 4, 5]\n",
    "a = get_seq_prefixes(data)\n",
    "display(data)\n",
    "display(a)"
   ]
  },
  {
   "cell_type": "code",
   "execution_count": 268,
   "metadata": {},
   "outputs": [
    {
     "output_type": "display_data",
     "data": {
      "text/plain": "[[1, 2, 3, 4, 5], [1, 2, 3, 4, 5, 6]]"
     },
     "metadata": {}
    },
    {
     "output_type": "display_data",
     "data": {
      "text/plain": "[[1],\n [1, 2],\n [1, 2, 3],\n [1, 2, 3, 4],\n [1, 2, 3, 4, 5],\n [1],\n [1, 2],\n [1, 2, 3],\n [1, 2, 3, 4],\n [1, 2, 3, 4, 5],\n [1, 2, 3, 4, 5, 6]]"
     },
     "metadata": {}
    }
   ],
   "source": [
    "data  = [[1, 2, 3, 4, 5],[1, 2, 3, 4, 5, 6]]\n",
    "a = get_dataset_prefixes(data)\n",
    "display(data)\n",
    "display(a)"
   ]
  },
  {
   "cell_type": "code",
   "execution_count": 282,
   "metadata": {},
   "outputs": [
    {
     "output_type": "display_data",
     "data": {
      "text/plain": "[[1, 2, 3, 4, 5], [1, 2, 3, 4, 5, 6]]"
     },
     "metadata": {}
    },
    {
     "output_type": "display_data",
     "data": {
      "text/plain": "[array([0, 0, 0, 1]),\n array([0, 0, 1, 2]),\n array([0, 1, 2, 3]),\n array([1, 2, 3, 4]),\n array([2, 3, 4, 5]),\n array([0, 0, 0, 1]),\n array([0, 0, 1, 2]),\n array([0, 1, 2, 3]),\n array([1, 2, 3, 4]),\n array([2, 3, 4, 5]),\n array([3, 4, 5, 6])]"
     },
     "metadata": {}
    }
   ],
   "source": [
    "data  = [[1, 2, 3, 4, 5],[1, 2, 3, 4, 5, 6]]\n",
    "a = get_windows_from_dataset(data, 4, 'pre')\n",
    "display(data)\n",
    "display(a)"
   ]
  },
  {
   "cell_type": "code",
   "execution_count": 347,
   "metadata": {},
   "outputs": [
    {
     "output_type": "display_data",
     "data": {
      "text/plain": "[[1, 2, 3]]"
     },
     "metadata": {}
    },
    {
     "output_type": "display_data",
     "data": {
      "text/plain": "[[4, 5, 6, 7, 8]]"
     },
     "metadata": {}
    }
   ],
   "source": [
    "data = get_windows_from_dataset([[1, 2, 3]], 4, 'pre')\n",
    "#data: => [[0, 0, 0, 1], [0, 0, 1, 2], [0, 1, 2, 3]]\n",
    "data = [[1, 2, 3], [4, 5, 6, 7, 8]]\n",
    "X, Y = shift_windows(data)\n",
    "display(X)\n",
    "display(Y)"
   ]
  },
  {
   "cell_type": "code",
   "execution_count": 304,
   "metadata": {},
   "outputs": [
    {
     "output_type": "display_data",
     "data": {
      "text/plain": "[[1, 2, 3]]"
     },
     "metadata": {}
    },
    {
     "output_type": "display_data",
     "data": {
      "text/plain": "[array([0, 0, 0, 1]), array([0, 0, 1, 2]), array([0, 1, 2, 3])]"
     },
     "metadata": {}
    }
   ],
   "source": [
    "data  = [[1, 2, 3]]\n",
    "a = get_windows_from_dataset(data, 4, 'pre')\n",
    "display(data)\n",
    "display(a)"
   ]
  },
  {
   "cell_type": "code",
   "execution_count": 239,
   "metadata": {},
   "outputs": [
    {
     "output_type": "execute_result",
     "data": {
      "text/plain": "[array([ 0,  0,  0,  0,  0,  0,  0,  0,  0,  0,  0,  0,  0,  0,  0,  0,  0,\n         0, 22]),\n array([ 0,  0,  0,  0,  0,  0,  0,  0,  0,  0,  0,  0,  0,  0,  0,  0,  0,\n        22,  5]),\n array([ 0,  0,  0,  0,  0,  0,  0,  0,  0,  0,  0,  0,  0,  0,  0,  0, 22,\n         5,  5]),\n array([ 0,  0,  0,  0,  0,  0,  0,  0,  0,  0,  0,  0,  0,  0,  0, 22,  5,\n         5,  5]),\n array([ 0,  0,  0,  0,  0,  0,  0,  0,  0,  0,  0,  0,  0,  0, 22,  5,  5,\n         5, 26]),\n array([ 0,  0,  0,  0,  0,  0,  0,  0,  0,  0,  0,  0,  0, 22,  5,  5,  5,\n        26, 11]),\n array([ 0,  0,  0,  0,  0,  0,  0,  0,  0,  0,  0,  0, 22,  5,  5,  5, 26,\n        11,  9]),\n array([ 0,  0,  0,  0,  0,  0,  0,  0,  0,  0,  0, 22,  5,  5,  5, 26, 11,\n         9, 26]),\n array([ 0,  0,  0,  0,  0,  0,  0,  0,  0,  0, 22,  5,  5,  5, 26, 11,  9,\n        26, 26]),\n array([ 0,  0,  0,  0,  0,  0,  0,  0,  0, 22,  5,  5,  5, 26, 11,  9, 26,\n        26, 11]),\n array([ 0,  0,  0,  0,  0,  0,  0,  0, 22,  5,  5,  5, 26, 11,  9, 26, 26,\n        11,  9]),\n array([ 0,  0,  0,  0,  0,  0,  0, 22,  5,  5,  5, 26, 11,  9, 26, 26, 11,\n         9, 11]),\n array([ 0,  0,  0,  0,  0,  0, 22,  5,  5,  5, 26, 11,  9, 26, 26, 11,  9,\n        11,  9]),\n array([ 0,  0,  0,  0,  0, 22,  5,  5,  5, 26, 11,  9, 26, 26, 11,  9, 11,\n         9, 23]),\n array([ 0,  0,  0,  0, 22,  5,  5,  5, 26, 11,  9, 26, 26, 11,  9, 11,  9,\n        23, 23]),\n array([ 0,  0,  0, 22,  5,  5,  5, 26, 11,  9, 26, 26, 11,  9, 11,  9, 23,\n        23, 23]),\n array([ 0,  0, 22,  5,  5,  5, 26, 11,  9, 26, 26, 11,  9, 11,  9, 23, 23,\n        23, 21]),\n array([ 0, 22,  5,  5,  5, 26, 11,  9, 26, 26, 11,  9, 11,  9, 23, 23, 23,\n        21, 21]),\n array([0, 0, 0, 0, 0, 0, 0, 0, 0, 0, 0, 0, 0, 0, 0, 0, 0, 0, 5]),\n array([0, 0, 0, 0, 0, 0, 0, 0, 0, 0, 0, 0, 0, 0, 0, 0, 0, 5, 5]),\n array([ 0,  0,  0,  0,  0,  0,  0,  0,  0,  0,  0,  0,  0,  0,  0,  0,  5,\n         5, 22]),\n array([ 0,  0,  0,  0,  0,  0,  0,  0,  0,  0,  0,  0,  0,  0,  0,  5,  5,\n        22,  5]),\n array([ 0,  0,  0,  0,  0,  0,  0,  0,  0,  0,  0,  0,  0,  0,  5,  5, 22,\n         5, 11]),\n array([ 0,  0,  0,  0,  0,  0,  0,  0,  0,  0,  0,  0,  0,  5,  5, 22,  5,\n        11,  9]),\n array([ 0,  0,  0,  0,  0,  0,  0,  0,  0,  0,  0,  0,  5,  5, 22,  5, 11,\n         9, 11]),\n array([ 0,  0,  0,  0,  0,  0,  0,  0,  0,  0,  0,  5,  5, 22,  5, 11,  9,\n        11,  9]),\n array([ 0,  0,  0,  0,  0,  0,  0,  0,  0,  0,  5,  5, 22,  5, 11,  9, 11,\n         9, 26]),\n array([ 0,  0,  0,  0,  0,  0,  0,  0,  0,  5,  5, 22,  5, 11,  9, 11,  9,\n        26, 26]),\n array([ 0,  0,  0,  0,  0,  0,  0,  0,  5,  5, 22,  5, 11,  9, 11,  9, 26,\n        26, 11]),\n array([ 0,  0,  0,  0,  0,  0,  0,  5,  5, 22,  5, 11,  9, 11,  9, 26, 26,\n        11,  9]),\n array([ 0,  0,  0,  0,  0,  0,  5,  5, 22,  5, 11,  9, 11,  9, 26, 26, 11,\n         9, 26]),\n array([ 0,  0,  0,  0,  0,  5,  5, 22,  5, 11,  9, 11,  9, 26, 26, 11,  9,\n        26,  3]),\n array([ 0,  0,  0,  0,  5,  5, 22,  5, 11,  9, 11,  9, 26, 26, 11,  9, 26,\n         3,  4]),\n array([ 0,  0,  0,  5,  5, 22,  5, 11,  9, 11,  9, 26, 26, 11,  9, 26,  3,\n         4,  3]),\n array([ 0,  0,  5,  5, 22,  5, 11,  9, 11,  9, 26, 26, 11,  9, 26,  3,  4,\n         3,  3]),\n array([ 0,  5,  5, 22,  5, 11,  9, 11,  9, 26, 26, 11,  9, 26,  3,  4,  3,\n         3,  4]),\n array([ 5,  5, 22,  5, 11,  9, 11,  9, 26, 26, 11,  9, 26,  3,  4,  3,  3,\n         4,  3]),\n array([ 5, 22,  5, 11,  9, 11,  9, 26, 26, 11,  9, 26,  3,  4,  3,  3,  4,\n         3, 23]),\n array([22,  5, 11,  9, 11,  9, 26, 26, 11,  9, 26,  3,  4,  3,  3,  4,  3,\n        23, 23]),\n array([ 5, 11,  9, 11,  9, 26, 26, 11,  9, 26,  3,  4,  3,  3,  4,  3, 23,\n        23, 23]),\n array([11,  9, 11,  9, 26, 26, 11,  9, 26,  3,  4,  3,  3,  4,  3, 23, 23,\n        23, 21]),\n array([ 9, 11,  9, 26, 26, 11,  9, 26,  3,  4,  3,  3,  4,  3, 23, 23, 23,\n        21, 21])]"
     },
     "metadata": {},
     "execution_count": 239
    }
   ],
   "source": [
    "data_utils.pad_dataset(d, max_len,  padding='pre')"
   ]
  }
 ],
 "metadata": {
  "kernelspec": {
   "display_name": "Python 3.7.3 64-bit ('keras': conda)",
   "language": "python",
   "name": "python37364bitkerascondaa4014ad699b9423aac6666553c6a2934"
  },
  "language_info": {
   "codemirror_mode": {
    "name": "ipython",
    "version": 3
   },
   "file_extension": ".py",
   "mimetype": "text/x-python",
   "name": "python",
   "nbconvert_exporter": "python",
   "pygments_lexer": "ipython3",
   "version": "3.7.3-final"
  }
 },
 "nbformat": 4,
 "nbformat_minor": 2
}